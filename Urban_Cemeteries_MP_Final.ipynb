{
  "nbformat": 4,
  "nbformat_minor": 0,
  "metadata": {
    "colab": {
      "name": "Urban Cemeteries_MP Final.ipynb",
      "provenance": [],
      "collapsed_sections": []
    },
    "kernelspec": {
      "name": "python3",
      "display_name": "Python 3"
    }
  },
  "cells": [
    {
      "cell_type": "markdown",
      "metadata": {
        "id": "idZbzOdzadJ9"
      },
      "source": [
        "Subject : URPL-GP-1620\n",
        "          Spatial Analysis and Data Visualization Fall’ 19\n",
        "\n",
        "Project: Pujara, Maitri\n",
        "Team : Alsina, Celeste | Pujara, Maitri | Rosa, Megan\n",
        "\n",
        "\n",
        "---\n",
        "\n",
        "\n",
        "\n",
        "Project Part-1 : I am here to explore the demand for \n",
        "cemeteries and look at death rates and data on how many \n",
        "people are choosing cremation over burials. "
      ]
    },
    {
      "cell_type": "markdown",
      "metadata": {
        "id": "CPI96_CoeTBW"
      },
      "source": [
        "1. Pre-installed common libraries \n",
        "\n",
        "---\n",
        "\n",
        "\n",
        "\n",
        "The two main libraries used for data manipulation in python are numpy which provides the data type and functions for arrays, and pandas which builds on numpy and provides the the data type and functions for dataframes.\n"
      ]
    },
    {
      "cell_type": "code",
      "metadata": {
        "id": "XlWfHEPBeKhW"
      },
      "source": [
        "import pandas as pd\n",
        "import numpy as np"
      ],
      "execution_count": null,
      "outputs": []
    },
    {
      "cell_type": "markdown",
      "metadata": {
        "id": "zSdmq43UeVdU"
      },
      "source": [
        "2. Import the dataset into the google collab\n",
        "\n",
        "\n",
        "\n",
        "---\n",
        "\n",
        "\n",
        "If you need to use a library that isn't already available in Colab you'll need to install it yourself. For example, someone has made a copy of R's janitor package for Python but we'll have to install it first. Colab has a nice feature that in the left side bar they have a bunch of helpful Code"
      ]
    },
    {
      "cell_type": "code",
      "metadata": {
        "id": "cYZ5HVhSeVAP",
        "colab": {
          "base_uri": "https://localhost:8080/",
          "height": 419
        },
        "outputId": "416d7351-d95b-4173-d109-320299a5f88d"
      },
      "source": [
        "pd.read_csv('https://drive.google.com/uc?export=download&id=1ByQvRMFCcL6ZtynM7SxeczmtkpaaMVgN')"
      ],
      "execution_count": null,
      "outputs": [
        {
          "output_type": "execute_result",
          "data": {
            "text/html": [
              "<div>\n",
              "<style scoped>\n",
              "    .dataframe tbody tr th:only-of-type {\n",
              "        vertical-align: middle;\n",
              "    }\n",
              "\n",
              "    .dataframe tbody tr th {\n",
              "        vertical-align: top;\n",
              "    }\n",
              "\n",
              "    .dataframe thead th {\n",
              "        text-align: right;\n",
              "    }\n",
              "</style>\n",
              "<table border=\"1\" class=\"dataframe\">\n",
              "  <thead>\n",
              "    <tr style=\"text-align: right;\">\n",
              "      <th></th>\n",
              "      <th>Year</th>\n",
              "      <th>County Name</th>\n",
              "      <th>Region</th>\n",
              "      <th>Place of Death Code</th>\n",
              "      <th>Place of Death Description</th>\n",
              "      <th>Disposition Code</th>\n",
              "      <th>Disposition Description</th>\n",
              "      <th>Deaths</th>\n",
              "    </tr>\n",
              "  </thead>\n",
              "  <tbody>\n",
              "    <tr>\n",
              "      <th>0</th>\n",
              "      <td>2015</td>\n",
              "      <td>Albany</td>\n",
              "      <td>ROS</td>\n",
              "      <td>A</td>\n",
              "      <td>Hospital-DOA</td>\n",
              "      <td>1</td>\n",
              "      <td>Burial</td>\n",
              "      <td>6</td>\n",
              "    </tr>\n",
              "    <tr>\n",
              "      <th>1</th>\n",
              "      <td>2015</td>\n",
              "      <td>Albany</td>\n",
              "      <td>ROS</td>\n",
              "      <td>A</td>\n",
              "      <td>Hospital-DOA</td>\n",
              "      <td>2</td>\n",
              "      <td>Cremation</td>\n",
              "      <td>6</td>\n",
              "    </tr>\n",
              "    <tr>\n",
              "      <th>2</th>\n",
              "      <td>2015</td>\n",
              "      <td>Albany</td>\n",
              "      <td>ROS</td>\n",
              "      <td>B</td>\n",
              "      <td>Hospital0-ER</td>\n",
              "      <td>1</td>\n",
              "      <td>Burial</td>\n",
              "      <td>76</td>\n",
              "    </tr>\n",
              "    <tr>\n",
              "      <th>3</th>\n",
              "      <td>2015</td>\n",
              "      <td>Albany</td>\n",
              "      <td>ROS</td>\n",
              "      <td>B</td>\n",
              "      <td>Hospital0-ER</td>\n",
              "      <td>2</td>\n",
              "      <td>Cremation</td>\n",
              "      <td>75</td>\n",
              "    </tr>\n",
              "    <tr>\n",
              "      <th>4</th>\n",
              "      <td>2015</td>\n",
              "      <td>Albany</td>\n",
              "      <td>ROS</td>\n",
              "      <td>B</td>\n",
              "      <td>Hospital0-ER</td>\n",
              "      <td>4</td>\n",
              "      <td>Holding</td>\n",
              "      <td>3</td>\n",
              "    </tr>\n",
              "    <tr>\n",
              "      <th>...</th>\n",
              "      <td>...</td>\n",
              "      <td>...</td>\n",
              "      <td>...</td>\n",
              "      <td>...</td>\n",
              "      <td>...</td>\n",
              "      <td>...</td>\n",
              "      <td>...</td>\n",
              "      <td>...</td>\n",
              "    </tr>\n",
              "    <tr>\n",
              "      <th>28452</th>\n",
              "      <td>2017</td>\n",
              "      <td>Yates</td>\n",
              "      <td>ROS</td>\n",
              "      <td>F</td>\n",
              "      <td>Decedent Residence</td>\n",
              "      <td>6</td>\n",
              "      <td>Entombment</td>\n",
              "      <td>2</td>\n",
              "    </tr>\n",
              "    <tr>\n",
              "      <th>28453</th>\n",
              "      <td>2017</td>\n",
              "      <td>Yates</td>\n",
              "      <td>ROS</td>\n",
              "      <td>J</td>\n",
              "      <td>Hospice Facility</td>\n",
              "      <td>1</td>\n",
              "      <td>Burial</td>\n",
              "      <td>2</td>\n",
              "    </tr>\n",
              "    <tr>\n",
              "      <th>28454</th>\n",
              "      <td>2017</td>\n",
              "      <td>Yates</td>\n",
              "      <td>ROS</td>\n",
              "      <td>J</td>\n",
              "      <td>Hospice Facility</td>\n",
              "      <td>2</td>\n",
              "      <td>Cremation</td>\n",
              "      <td>3</td>\n",
              "    </tr>\n",
              "    <tr>\n",
              "      <th>28455</th>\n",
              "      <td>2017</td>\n",
              "      <td>Yates</td>\n",
              "      <td>ROS</td>\n",
              "      <td>P</td>\n",
              "      <td>Other Institution</td>\n",
              "      <td>1</td>\n",
              "      <td>Burial</td>\n",
              "      <td>1</td>\n",
              "    </tr>\n",
              "    <tr>\n",
              "      <th>28456</th>\n",
              "      <td>2017</td>\n",
              "      <td>Yates</td>\n",
              "      <td>ROS</td>\n",
              "      <td>P</td>\n",
              "      <td>Other Institution</td>\n",
              "      <td>2</td>\n",
              "      <td>Cremation</td>\n",
              "      <td>5</td>\n",
              "    </tr>\n",
              "  </tbody>\n",
              "</table>\n",
              "<p>28457 rows × 8 columns</p>\n",
              "</div>"
            ],
            "text/plain": [
              "       Year County Name  ... Disposition Description Deaths\n",
              "0      2015      Albany  ...                  Burial      6\n",
              "1      2015      Albany  ...               Cremation      6\n",
              "2      2015      Albany  ...                  Burial     76\n",
              "3      2015      Albany  ...               Cremation     75\n",
              "4      2015      Albany  ...                 Holding      3\n",
              "...     ...         ...  ...                     ...    ...\n",
              "28452  2017       Yates  ...              Entombment      2\n",
              "28453  2017       Yates  ...                  Burial      2\n",
              "28454  2017       Yates  ...               Cremation      3\n",
              "28455  2017       Yates  ...                  Burial      1\n",
              "28456  2017       Yates  ...               Cremation      5\n",
              "\n",
              "[28457 rows x 8 columns]"
            ]
          },
          "metadata": {
            "tags": []
          },
          "execution_count": 2
        }
      ]
    },
    {
      "cell_type": "markdown",
      "metadata": {
        "id": "2J8xt-5DYXOZ"
      },
      "source": [
        "3. Import libraries called 'Janitor'\n",
        "\n",
        "\n",
        "---\n",
        "\n",
        "\n",
        "If you need to use a library that isn't already available in Colab you'll need to install it yourself. For example, someone has made a copy of R's janitor package for Python but we'll have to install it first. Colab has a nice feature that in the left side bar they have a bunch of helpful Code"
      ]
    },
    {
      "cell_type": "code",
      "metadata": {
        "id": "SqB7TEk1ecLS"
      },
      "source": [
        "!pip install -q pyjanitor\n",
        "import janitor"
      ],
      "execution_count": null,
      "outputs": []
    },
    {
      "cell_type": "markdown",
      "metadata": {
        "id": "TWkqQeKleeyX"
      },
      "source": [
        "4. Import dataset and clean names of the dataset and Importing CSV files\n",
        "\n",
        "\n",
        "\n",
        "---\n",
        "\n",
        "Now we can import our dataset with the read_csv function from pandas, giving it the URL for our CSV file, and assigning the resulting dataframe to Vital_Statistics.raw. We can then overwrite the Vital_Statistics_raw with a version that has all the column names reformatted by using the clean_names function from janitor.\n"
      ]
    },
    {
      "cell_type": "code",
      "metadata": {
        "id": "ofO30SGsefXj"
      },
      "source": [
        "Vital_Statistics_raw = pd.read_csv('https://drive.google.com/uc?export=download&id=1ByQvRMFCcL6ZtynM7SxeczmtkpaaMVgN')\n",
        "Vital_Statistics_raw = janitor.clean_names(Vital_Statistics_raw)"
      ],
      "execution_count": null,
      "outputs": []
    },
    {
      "cell_type": "markdown",
      "metadata": {
        "id": "54jt1bJiejsx"
      },
      "source": [
        "5. Previewing dataframes\n",
        "\n",
        "\n",
        "\n",
        "---\n",
        "\n",
        "Now we have a dataframe of our pluto data called Vital_Statistics_raw. In python objects that you create like this dataframe have functions associated with them called \"methods\" and you can use these like dataframe_name.method_name()\n",
        "\n"
      ]
    },
    {
      "cell_type": "code",
      "metadata": {
        "id": "LaQfC6KZekNu",
        "colab": {
          "base_uri": "https://localhost:8080/",
          "height": 204
        },
        "outputId": "02117412-21f9-4689-f356-dbb85a0124de"
      },
      "source": [
        "Vital_Statistics_raw.head()"
      ],
      "execution_count": null,
      "outputs": [
        {
          "output_type": "execute_result",
          "data": {
            "text/html": [
              "<div>\n",
              "<style scoped>\n",
              "    .dataframe tbody tr th:only-of-type {\n",
              "        vertical-align: middle;\n",
              "    }\n",
              "\n",
              "    .dataframe tbody tr th {\n",
              "        vertical-align: top;\n",
              "    }\n",
              "\n",
              "    .dataframe thead th {\n",
              "        text-align: right;\n",
              "    }\n",
              "</style>\n",
              "<table border=\"1\" class=\"dataframe\">\n",
              "  <thead>\n",
              "    <tr style=\"text-align: right;\">\n",
              "      <th></th>\n",
              "      <th>year</th>\n",
              "      <th>county_name</th>\n",
              "      <th>region</th>\n",
              "      <th>place_of_death_code</th>\n",
              "      <th>place_of_death_description</th>\n",
              "      <th>disposition_code</th>\n",
              "      <th>disposition_description</th>\n",
              "      <th>deaths</th>\n",
              "    </tr>\n",
              "  </thead>\n",
              "  <tbody>\n",
              "    <tr>\n",
              "      <th>0</th>\n",
              "      <td>2015</td>\n",
              "      <td>Albany</td>\n",
              "      <td>ROS</td>\n",
              "      <td>A</td>\n",
              "      <td>Hospital-DOA</td>\n",
              "      <td>1</td>\n",
              "      <td>Burial</td>\n",
              "      <td>6</td>\n",
              "    </tr>\n",
              "    <tr>\n",
              "      <th>1</th>\n",
              "      <td>2015</td>\n",
              "      <td>Albany</td>\n",
              "      <td>ROS</td>\n",
              "      <td>A</td>\n",
              "      <td>Hospital-DOA</td>\n",
              "      <td>2</td>\n",
              "      <td>Cremation</td>\n",
              "      <td>6</td>\n",
              "    </tr>\n",
              "    <tr>\n",
              "      <th>2</th>\n",
              "      <td>2015</td>\n",
              "      <td>Albany</td>\n",
              "      <td>ROS</td>\n",
              "      <td>B</td>\n",
              "      <td>Hospital0-ER</td>\n",
              "      <td>1</td>\n",
              "      <td>Burial</td>\n",
              "      <td>76</td>\n",
              "    </tr>\n",
              "    <tr>\n",
              "      <th>3</th>\n",
              "      <td>2015</td>\n",
              "      <td>Albany</td>\n",
              "      <td>ROS</td>\n",
              "      <td>B</td>\n",
              "      <td>Hospital0-ER</td>\n",
              "      <td>2</td>\n",
              "      <td>Cremation</td>\n",
              "      <td>75</td>\n",
              "    </tr>\n",
              "    <tr>\n",
              "      <th>4</th>\n",
              "      <td>2015</td>\n",
              "      <td>Albany</td>\n",
              "      <td>ROS</td>\n",
              "      <td>B</td>\n",
              "      <td>Hospital0-ER</td>\n",
              "      <td>4</td>\n",
              "      <td>Holding</td>\n",
              "      <td>3</td>\n",
              "    </tr>\n",
              "  </tbody>\n",
              "</table>\n",
              "</div>"
            ],
            "text/plain": [
              "   year county_name region  ... disposition_code disposition_description  deaths\n",
              "0  2015      Albany    ROS  ...                1                  Burial       6\n",
              "1  2015      Albany    ROS  ...                2               Cremation       6\n",
              "2  2015      Albany    ROS  ...                1                  Burial      76\n",
              "3  2015      Albany    ROS  ...                2               Cremation      75\n",
              "4  2015      Albany    ROS  ...                4                 Holding       3\n",
              "\n",
              "[5 rows x 8 columns]"
            ]
          },
          "metadata": {
            "tags": []
          },
          "execution_count": 5
        }
      ]
    },
    {
      "cell_type": "markdown",
      "metadata": {
        "id": "1SQZMzVPemmJ"
      },
      "source": [
        "6. In addition to step-5\n",
        "\n",
        "\n",
        "\n",
        "---\n",
        "\n",
        "\n",
        "Then we can also use the info method to see all the column names, the number of non-missing rows, and the data type. This is similar to dplyr's glimpse function in R. \n"
      ]
    },
    {
      "cell_type": "code",
      "metadata": {
        "id": "QZ_4F4E4enPU",
        "colab": {
          "base_uri": "https://localhost:8080/",
          "height": 238
        },
        "outputId": "90cafa0f-f0b6-4c9b-92bf-c565e4028b4a"
      },
      "source": [
        "Vital_Statistics_raw.info()"
      ],
      "execution_count": null,
      "outputs": [
        {
          "output_type": "stream",
          "text": [
            "<class 'pandas.core.frame.DataFrame'>\n",
            "RangeIndex: 28457 entries, 0 to 28456\n",
            "Data columns (total 8 columns):\n",
            "year                          28457 non-null int64\n",
            "county_name                   28457 non-null object\n",
            "region                        28457 non-null object\n",
            "place_of_death_code           28457 non-null object\n",
            "place_of_death_description    28457 non-null object\n",
            "disposition_code              28457 non-null int64\n",
            "disposition_description       28457 non-null object\n",
            "deaths                        28457 non-null int64\n",
            "dtypes: int64(3), object(5)\n",
            "memory usage: 1.7+ MB\n"
          ],
          "name": "stdout"
        }
      ]
    },
    {
      "cell_type": "markdown",
      "metadata": {
        "id": "YF5FGyZvesbD"
      },
      "source": [
        "7. Selecting/dropping/renaming columns\n",
        "\n",
        "\n",
        "\n",
        "---\n",
        "\n",
        "We can select a subset of the columns using a few different methods. These are equivilant to dplyr's select function in R."
      ]
    },
    {
      "cell_type": "code",
      "metadata": {
        "id": "dMGM4dIEetWc",
        "colab": {
          "base_uri": "https://localhost:8080/",
          "height": 204
        },
        "outputId": "e8eab35f-452b-4d9a-fbd3-428dce83bc9d"
      },
      "source": [
        "Vital_Statistics_slim = Vital_Statistics_raw.loc[:,['year','county_name','region','place_of_death_code','place_of_death_description','disposition_code','disposition_description','deaths']]\n",
        "Vital_Statistics_slim = Vital_Statistics_slim.rename(columns={'Disposition Description':'dd'})\n",
        "Vital_Statistics_slim = Vital_Statistics_slim.drop(['place_of_death_code', 'place_of_death_description', 'disposition_code'], axis=1)\n",
        "Vital_Statistics_slim.head()\n"
      ],
      "execution_count": null,
      "outputs": [
        {
          "output_type": "execute_result",
          "data": {
            "text/html": [
              "<div>\n",
              "<style scoped>\n",
              "    .dataframe tbody tr th:only-of-type {\n",
              "        vertical-align: middle;\n",
              "    }\n",
              "\n",
              "    .dataframe tbody tr th {\n",
              "        vertical-align: top;\n",
              "    }\n",
              "\n",
              "    .dataframe thead th {\n",
              "        text-align: right;\n",
              "    }\n",
              "</style>\n",
              "<table border=\"1\" class=\"dataframe\">\n",
              "  <thead>\n",
              "    <tr style=\"text-align: right;\">\n",
              "      <th></th>\n",
              "      <th>year</th>\n",
              "      <th>county_name</th>\n",
              "      <th>region</th>\n",
              "      <th>disposition_description</th>\n",
              "      <th>deaths</th>\n",
              "    </tr>\n",
              "  </thead>\n",
              "  <tbody>\n",
              "    <tr>\n",
              "      <th>0</th>\n",
              "      <td>2015</td>\n",
              "      <td>Albany</td>\n",
              "      <td>ROS</td>\n",
              "      <td>Burial</td>\n",
              "      <td>6</td>\n",
              "    </tr>\n",
              "    <tr>\n",
              "      <th>1</th>\n",
              "      <td>2015</td>\n",
              "      <td>Albany</td>\n",
              "      <td>ROS</td>\n",
              "      <td>Cremation</td>\n",
              "      <td>6</td>\n",
              "    </tr>\n",
              "    <tr>\n",
              "      <th>2</th>\n",
              "      <td>2015</td>\n",
              "      <td>Albany</td>\n",
              "      <td>ROS</td>\n",
              "      <td>Burial</td>\n",
              "      <td>76</td>\n",
              "    </tr>\n",
              "    <tr>\n",
              "      <th>3</th>\n",
              "      <td>2015</td>\n",
              "      <td>Albany</td>\n",
              "      <td>ROS</td>\n",
              "      <td>Cremation</td>\n",
              "      <td>75</td>\n",
              "    </tr>\n",
              "    <tr>\n",
              "      <th>4</th>\n",
              "      <td>2015</td>\n",
              "      <td>Albany</td>\n",
              "      <td>ROS</td>\n",
              "      <td>Holding</td>\n",
              "      <td>3</td>\n",
              "    </tr>\n",
              "  </tbody>\n",
              "</table>\n",
              "</div>"
            ],
            "text/plain": [
              "   year county_name region disposition_description  deaths\n",
              "0  2015      Albany    ROS                  Burial       6\n",
              "1  2015      Albany    ROS               Cremation       6\n",
              "2  2015      Albany    ROS                  Burial      76\n",
              "3  2015      Albany    ROS               Cremation      75\n",
              "4  2015      Albany    ROS                 Holding       3"
            ]
          },
          "metadata": {
            "tags": []
          },
          "execution_count": 25
        }
      ]
    },
    {
      "cell_type": "markdown",
      "metadata": {
        "id": "vx3fyvBKi5xV"
      },
      "source": [
        "8. Sorting dataframes\n",
        "\n",
        "\n",
        "\n",
        "---\n",
        "\n",
        "Now we can sort the rows in our dataframe to see the 5 buildings with the most total units. This is similar to dplyr's arrange function in R. In this case we just want to see it, but don't need to make a permant change to the dataframe so we won't assign the result to anything but just print the head at the end."
      ]
    },
    {
      "cell_type": "code",
      "metadata": {
        "id": "eCb28yD2nBGI",
        "colab": {
          "base_uri": "https://localhost:8080/",
          "height": 419
        },
        "outputId": "d4a07b45-7a45-4f91-8499-0f87efc6ae6d"
      },
      "source": [
        "Vital_Statistics_slim.sort_values('deaths', ascending=False).head()\n",
        "vital_new = Vital_Statistics_slim.clean_names()\n",
        "vital_new"
      ],
      "execution_count": null,
      "outputs": [
        {
          "output_type": "execute_result",
          "data": {
            "text/html": [
              "<div>\n",
              "<style scoped>\n",
              "    .dataframe tbody tr th:only-of-type {\n",
              "        vertical-align: middle;\n",
              "    }\n",
              "\n",
              "    .dataframe tbody tr th {\n",
              "        vertical-align: top;\n",
              "    }\n",
              "\n",
              "    .dataframe thead th {\n",
              "        text-align: right;\n",
              "    }\n",
              "</style>\n",
              "<table border=\"1\" class=\"dataframe\">\n",
              "  <thead>\n",
              "    <tr style=\"text-align: right;\">\n",
              "      <th></th>\n",
              "      <th>year</th>\n",
              "      <th>county_name</th>\n",
              "      <th>region</th>\n",
              "      <th>disposition_description</th>\n",
              "      <th>deaths</th>\n",
              "    </tr>\n",
              "  </thead>\n",
              "  <tbody>\n",
              "    <tr>\n",
              "      <th>0</th>\n",
              "      <td>2015</td>\n",
              "      <td>Albany</td>\n",
              "      <td>ROS</td>\n",
              "      <td>Burial</td>\n",
              "      <td>6</td>\n",
              "    </tr>\n",
              "    <tr>\n",
              "      <th>1</th>\n",
              "      <td>2015</td>\n",
              "      <td>Albany</td>\n",
              "      <td>ROS</td>\n",
              "      <td>Cremation</td>\n",
              "      <td>6</td>\n",
              "    </tr>\n",
              "    <tr>\n",
              "      <th>2</th>\n",
              "      <td>2015</td>\n",
              "      <td>Albany</td>\n",
              "      <td>ROS</td>\n",
              "      <td>Burial</td>\n",
              "      <td>76</td>\n",
              "    </tr>\n",
              "    <tr>\n",
              "      <th>3</th>\n",
              "      <td>2015</td>\n",
              "      <td>Albany</td>\n",
              "      <td>ROS</td>\n",
              "      <td>Cremation</td>\n",
              "      <td>75</td>\n",
              "    </tr>\n",
              "    <tr>\n",
              "      <th>4</th>\n",
              "      <td>2015</td>\n",
              "      <td>Albany</td>\n",
              "      <td>ROS</td>\n",
              "      <td>Holding</td>\n",
              "      <td>3</td>\n",
              "    </tr>\n",
              "    <tr>\n",
              "      <th>...</th>\n",
              "      <td>...</td>\n",
              "      <td>...</td>\n",
              "      <td>...</td>\n",
              "      <td>...</td>\n",
              "      <td>...</td>\n",
              "    </tr>\n",
              "    <tr>\n",
              "      <th>28452</th>\n",
              "      <td>2017</td>\n",
              "      <td>Yates</td>\n",
              "      <td>ROS</td>\n",
              "      <td>Entombment</td>\n",
              "      <td>2</td>\n",
              "    </tr>\n",
              "    <tr>\n",
              "      <th>28453</th>\n",
              "      <td>2017</td>\n",
              "      <td>Yates</td>\n",
              "      <td>ROS</td>\n",
              "      <td>Burial</td>\n",
              "      <td>2</td>\n",
              "    </tr>\n",
              "    <tr>\n",
              "      <th>28454</th>\n",
              "      <td>2017</td>\n",
              "      <td>Yates</td>\n",
              "      <td>ROS</td>\n",
              "      <td>Cremation</td>\n",
              "      <td>3</td>\n",
              "    </tr>\n",
              "    <tr>\n",
              "      <th>28455</th>\n",
              "      <td>2017</td>\n",
              "      <td>Yates</td>\n",
              "      <td>ROS</td>\n",
              "      <td>Burial</td>\n",
              "      <td>1</td>\n",
              "    </tr>\n",
              "    <tr>\n",
              "      <th>28456</th>\n",
              "      <td>2017</td>\n",
              "      <td>Yates</td>\n",
              "      <td>ROS</td>\n",
              "      <td>Cremation</td>\n",
              "      <td>5</td>\n",
              "    </tr>\n",
              "  </tbody>\n",
              "</table>\n",
              "<p>28457 rows × 5 columns</p>\n",
              "</div>"
            ],
            "text/plain": [
              "       year county_name region disposition_description  deaths\n",
              "0      2015      Albany    ROS                  Burial       6\n",
              "1      2015      Albany    ROS               Cremation       6\n",
              "2      2015      Albany    ROS                  Burial      76\n",
              "3      2015      Albany    ROS               Cremation      75\n",
              "4      2015      Albany    ROS                 Holding       3\n",
              "...     ...         ...    ...                     ...     ...\n",
              "28452  2017       Yates    ROS              Entombment       2\n",
              "28453  2017       Yates    ROS                  Burial       2\n",
              "28454  2017       Yates    ROS               Cremation       3\n",
              "28455  2017       Yates    ROS                  Burial       1\n",
              "28456  2017       Yates    ROS               Cremation       5\n",
              "\n",
              "[28457 rows x 5 columns]"
            ]
          },
          "metadata": {
            "tags": []
          },
          "execution_count": 26
        }
      ]
    },
    {
      "cell_type": "markdown",
      "metadata": {
        "id": "qhBtTVpinGSc"
      },
      "source": [
        "9. Method Chaining\n",
        "\n",
        "\n",
        "\n",
        "---\n",
        "\n",
        "\n",
        "As you can see above, when we have a dataframe and use a method that returns a dataframe we and then use another method on that result. This is called \"method chaining\" because we can chain together multiple calls to methods on an object. This achieves a similar goal as the %>% (pipe) operator in R's tidyverse packages. As you can imagine your code can get a little hard to read when you do a lot of this chaining all on one line. However, unlike R, in Python indentation has special meaning so we have to be careful with formating our code. To group together section where we are using method chaining we need to wrap the whole thing in parentheses."
      ]
    },
    {
      "cell_type": "code",
      "metadata": {
        "id": "vUOQBUFRnHTQ",
        "colab": {
          "base_uri": "https://localhost:8080/",
          "height": 979
        },
        "outputId": "d2d7c60a-78bb-4be8-d161-6cd0565f92e8"
      },
      "source": [
        "queens_nyc = (\n",
        "    vital_new\n",
        "      .query(\"county_name == 'Queens'\")\n",
        "      .query(\"region == 'NYC'\")\n",
        "      .query(\"disposition_description == 'Cremation' or disposition_description == 'Burial' \")\n",
        "      .groupby(['disposition_description','year','region','county_name'])\n",
        "      .sum()\n",
        "      .reset_index()\n",
        "      .sort_values('deaths', ascending = False)\n",
        "      )\n",
        "\n",
        "queens_nyc"
      ],
      "execution_count": null,
      "outputs": [
        {
          "output_type": "execute_result",
          "data": {
            "text/html": [
              "<div>\n",
              "<style scoped>\n",
              "    .dataframe tbody tr th:only-of-type {\n",
              "        vertical-align: middle;\n",
              "    }\n",
              "\n",
              "    .dataframe tbody tr th {\n",
              "        vertical-align: top;\n",
              "    }\n",
              "\n",
              "    .dataframe thead th {\n",
              "        text-align: right;\n",
              "    }\n",
              "</style>\n",
              "<table border=\"1\" class=\"dataframe\">\n",
              "  <thead>\n",
              "    <tr style=\"text-align: right;\">\n",
              "      <th></th>\n",
              "      <th>disposition_description</th>\n",
              "      <th>year</th>\n",
              "      <th>region</th>\n",
              "      <th>county_name</th>\n",
              "      <th>deaths</th>\n",
              "    </tr>\n",
              "  </thead>\n",
              "  <tbody>\n",
              "    <tr>\n",
              "      <th>0</th>\n",
              "      <td>Burial</td>\n",
              "      <td>2003</td>\n",
              "      <td>NYC</td>\n",
              "      <td>Queens</td>\n",
              "      <td>11543</td>\n",
              "    </tr>\n",
              "    <tr>\n",
              "      <th>1</th>\n",
              "      <td>Burial</td>\n",
              "      <td>2004</td>\n",
              "      <td>NYC</td>\n",
              "      <td>Queens</td>\n",
              "      <td>10979</td>\n",
              "    </tr>\n",
              "    <tr>\n",
              "      <th>2</th>\n",
              "      <td>Burial</td>\n",
              "      <td>2005</td>\n",
              "      <td>NYC</td>\n",
              "      <td>Queens</td>\n",
              "      <td>10942</td>\n",
              "    </tr>\n",
              "    <tr>\n",
              "      <th>3</th>\n",
              "      <td>Burial</td>\n",
              "      <td>2006</td>\n",
              "      <td>NYC</td>\n",
              "      <td>Queens</td>\n",
              "      <td>10560</td>\n",
              "    </tr>\n",
              "    <tr>\n",
              "      <th>4</th>\n",
              "      <td>Burial</td>\n",
              "      <td>2007</td>\n",
              "      <td>NYC</td>\n",
              "      <td>Queens</td>\n",
              "      <td>10227</td>\n",
              "    </tr>\n",
              "    <tr>\n",
              "      <th>5</th>\n",
              "      <td>Burial</td>\n",
              "      <td>2008</td>\n",
              "      <td>NYC</td>\n",
              "      <td>Queens</td>\n",
              "      <td>9740</td>\n",
              "    </tr>\n",
              "    <tr>\n",
              "      <th>9</th>\n",
              "      <td>Burial</td>\n",
              "      <td>2012</td>\n",
              "      <td>NYC</td>\n",
              "      <td>Queens</td>\n",
              "      <td>9407</td>\n",
              "    </tr>\n",
              "    <tr>\n",
              "      <th>6</th>\n",
              "      <td>Burial</td>\n",
              "      <td>2009</td>\n",
              "      <td>NYC</td>\n",
              "      <td>Queens</td>\n",
              "      <td>9392</td>\n",
              "    </tr>\n",
              "    <tr>\n",
              "      <th>7</th>\n",
              "      <td>Burial</td>\n",
              "      <td>2010</td>\n",
              "      <td>NYC</td>\n",
              "      <td>Queens</td>\n",
              "      <td>9249</td>\n",
              "    </tr>\n",
              "    <tr>\n",
              "      <th>8</th>\n",
              "      <td>Burial</td>\n",
              "      <td>2011</td>\n",
              "      <td>NYC</td>\n",
              "      <td>Queens</td>\n",
              "      <td>9095</td>\n",
              "    </tr>\n",
              "    <tr>\n",
              "      <th>10</th>\n",
              "      <td>Burial</td>\n",
              "      <td>2013</td>\n",
              "      <td>NYC</td>\n",
              "      <td>Queens</td>\n",
              "      <td>8957</td>\n",
              "    </tr>\n",
              "    <tr>\n",
              "      <th>11</th>\n",
              "      <td>Burial</td>\n",
              "      <td>2014</td>\n",
              "      <td>NYC</td>\n",
              "      <td>Queens</td>\n",
              "      <td>8914</td>\n",
              "    </tr>\n",
              "    <tr>\n",
              "      <th>13</th>\n",
              "      <td>Burial</td>\n",
              "      <td>2016</td>\n",
              "      <td>NYC</td>\n",
              "      <td>Queens</td>\n",
              "      <td>8710</td>\n",
              "    </tr>\n",
              "    <tr>\n",
              "      <th>12</th>\n",
              "      <td>Burial</td>\n",
              "      <td>2015</td>\n",
              "      <td>NYC</td>\n",
              "      <td>Queens</td>\n",
              "      <td>8572</td>\n",
              "    </tr>\n",
              "    <tr>\n",
              "      <th>14</th>\n",
              "      <td>Burial</td>\n",
              "      <td>2017</td>\n",
              "      <td>NYC</td>\n",
              "      <td>Queens</td>\n",
              "      <td>8568</td>\n",
              "    </tr>\n",
              "    <tr>\n",
              "      <th>29</th>\n",
              "      <td>Cremation</td>\n",
              "      <td>2017</td>\n",
              "      <td>NYC</td>\n",
              "      <td>Queens</td>\n",
              "      <td>5163</td>\n",
              "    </tr>\n",
              "    <tr>\n",
              "      <th>28</th>\n",
              "      <td>Cremation</td>\n",
              "      <td>2016</td>\n",
              "      <td>NYC</td>\n",
              "      <td>Queens</td>\n",
              "      <td>4931</td>\n",
              "    </tr>\n",
              "    <tr>\n",
              "      <th>27</th>\n",
              "      <td>Cremation</td>\n",
              "      <td>2015</td>\n",
              "      <td>NYC</td>\n",
              "      <td>Queens</td>\n",
              "      <td>4521</td>\n",
              "    </tr>\n",
              "    <tr>\n",
              "      <th>26</th>\n",
              "      <td>Cremation</td>\n",
              "      <td>2014</td>\n",
              "      <td>NYC</td>\n",
              "      <td>Queens</td>\n",
              "      <td>4383</td>\n",
              "    </tr>\n",
              "    <tr>\n",
              "      <th>25</th>\n",
              "      <td>Cremation</td>\n",
              "      <td>2013</td>\n",
              "      <td>NYC</td>\n",
              "      <td>Queens</td>\n",
              "      <td>4119</td>\n",
              "    </tr>\n",
              "    <tr>\n",
              "      <th>24</th>\n",
              "      <td>Cremation</td>\n",
              "      <td>2012</td>\n",
              "      <td>NYC</td>\n",
              "      <td>Queens</td>\n",
              "      <td>3911</td>\n",
              "    </tr>\n",
              "    <tr>\n",
              "      <th>23</th>\n",
              "      <td>Cremation</td>\n",
              "      <td>2011</td>\n",
              "      <td>NYC</td>\n",
              "      <td>Queens</td>\n",
              "      <td>3869</td>\n",
              "    </tr>\n",
              "    <tr>\n",
              "      <th>22</th>\n",
              "      <td>Cremation</td>\n",
              "      <td>2010</td>\n",
              "      <td>NYC</td>\n",
              "      <td>Queens</td>\n",
              "      <td>3722</td>\n",
              "    </tr>\n",
              "    <tr>\n",
              "      <th>21</th>\n",
              "      <td>Cremation</td>\n",
              "      <td>2009</td>\n",
              "      <td>NYC</td>\n",
              "      <td>Queens</td>\n",
              "      <td>3586</td>\n",
              "    </tr>\n",
              "    <tr>\n",
              "      <th>20</th>\n",
              "      <td>Cremation</td>\n",
              "      <td>2008</td>\n",
              "      <td>NYC</td>\n",
              "      <td>Queens</td>\n",
              "      <td>3377</td>\n",
              "    </tr>\n",
              "    <tr>\n",
              "      <th>19</th>\n",
              "      <td>Cremation</td>\n",
              "      <td>2007</td>\n",
              "      <td>NYC</td>\n",
              "      <td>Queens</td>\n",
              "      <td>3197</td>\n",
              "    </tr>\n",
              "    <tr>\n",
              "      <th>18</th>\n",
              "      <td>Cremation</td>\n",
              "      <td>2006</td>\n",
              "      <td>NYC</td>\n",
              "      <td>Queens</td>\n",
              "      <td>3104</td>\n",
              "    </tr>\n",
              "    <tr>\n",
              "      <th>17</th>\n",
              "      <td>Cremation</td>\n",
              "      <td>2005</td>\n",
              "      <td>NYC</td>\n",
              "      <td>Queens</td>\n",
              "      <td>3060</td>\n",
              "    </tr>\n",
              "    <tr>\n",
              "      <th>15</th>\n",
              "      <td>Cremation</td>\n",
              "      <td>2003</td>\n",
              "      <td>NYC</td>\n",
              "      <td>Queens</td>\n",
              "      <td>3006</td>\n",
              "    </tr>\n",
              "    <tr>\n",
              "      <th>16</th>\n",
              "      <td>Cremation</td>\n",
              "      <td>2004</td>\n",
              "      <td>NYC</td>\n",
              "      <td>Queens</td>\n",
              "      <td>3002</td>\n",
              "    </tr>\n",
              "  </tbody>\n",
              "</table>\n",
              "</div>"
            ],
            "text/plain": [
              "   disposition_description  year region county_name  deaths\n",
              "0                   Burial  2003    NYC      Queens   11543\n",
              "1                   Burial  2004    NYC      Queens   10979\n",
              "2                   Burial  2005    NYC      Queens   10942\n",
              "3                   Burial  2006    NYC      Queens   10560\n",
              "4                   Burial  2007    NYC      Queens   10227\n",
              "5                   Burial  2008    NYC      Queens    9740\n",
              "9                   Burial  2012    NYC      Queens    9407\n",
              "6                   Burial  2009    NYC      Queens    9392\n",
              "7                   Burial  2010    NYC      Queens    9249\n",
              "8                   Burial  2011    NYC      Queens    9095\n",
              "10                  Burial  2013    NYC      Queens    8957\n",
              "11                  Burial  2014    NYC      Queens    8914\n",
              "13                  Burial  2016    NYC      Queens    8710\n",
              "12                  Burial  2015    NYC      Queens    8572\n",
              "14                  Burial  2017    NYC      Queens    8568\n",
              "29               Cremation  2017    NYC      Queens    5163\n",
              "28               Cremation  2016    NYC      Queens    4931\n",
              "27               Cremation  2015    NYC      Queens    4521\n",
              "26               Cremation  2014    NYC      Queens    4383\n",
              "25               Cremation  2013    NYC      Queens    4119\n",
              "24               Cremation  2012    NYC      Queens    3911\n",
              "23               Cremation  2011    NYC      Queens    3869\n",
              "22               Cremation  2010    NYC      Queens    3722\n",
              "21               Cremation  2009    NYC      Queens    3586\n",
              "20               Cremation  2008    NYC      Queens    3377\n",
              "19               Cremation  2007    NYC      Queens    3197\n",
              "18               Cremation  2006    NYC      Queens    3104\n",
              "17               Cremation  2005    NYC      Queens    3060\n",
              "15               Cremation  2003    NYC      Queens    3006\n",
              "16               Cremation  2004    NYC      Queens    3002"
            ]
          },
          "metadata": {
            "tags": []
          },
          "execution_count": 27
        }
      ]
    },
    {
      "cell_type": "markdown",
      "metadata": {
        "id": "mOsGocsKckMQ"
      },
      "source": [
        "10. Filtering rows with query\n",
        "\n",
        "\n",
        "\n",
        "---\n",
        "\n",
        "\n",
        "We can use the query method on our dataframe to filter to only the buildings in Queens. This is similar to the dplyr's filter function in R."
      ]
    },
    {
      "cell_type": "code",
      "metadata": {
        "id": "pdfOAbSZ7SAX",
        "colab": {
          "base_uri": "https://localhost:8080/",
          "height": 979
        },
        "outputId": "3c4169d2-bc79-47a4-f31f-01b196f86863"
      },
      "source": [
        "queens_nyc = (\n",
        "    vital_new\n",
        "      .query(\"county_name == 'Queens'\")\n",
        "      .query(\"region == 'NYC'\")\n",
        "      .query(\"disposition_description == 'Cremation' or disposition_description == 'Burial' \")\n",
        "      .groupby(['disposition_description','year'])\n",
        "      .sum()\n",
        "      .reset_index()\n",
        "      .sort_values('deaths', ascending = False)\n",
        "      )\n",
        "\n",
        "queens_nyc"
      ],
      "execution_count": null,
      "outputs": [
        {
          "output_type": "execute_result",
          "data": {
            "text/html": [
              "<div>\n",
              "<style scoped>\n",
              "    .dataframe tbody tr th:only-of-type {\n",
              "        vertical-align: middle;\n",
              "    }\n",
              "\n",
              "    .dataframe tbody tr th {\n",
              "        vertical-align: top;\n",
              "    }\n",
              "\n",
              "    .dataframe thead th {\n",
              "        text-align: right;\n",
              "    }\n",
              "</style>\n",
              "<table border=\"1\" class=\"dataframe\">\n",
              "  <thead>\n",
              "    <tr style=\"text-align: right;\">\n",
              "      <th></th>\n",
              "      <th>disposition_description</th>\n",
              "      <th>year</th>\n",
              "      <th>deaths</th>\n",
              "    </tr>\n",
              "  </thead>\n",
              "  <tbody>\n",
              "    <tr>\n",
              "      <th>0</th>\n",
              "      <td>Burial</td>\n",
              "      <td>2003</td>\n",
              "      <td>11543</td>\n",
              "    </tr>\n",
              "    <tr>\n",
              "      <th>1</th>\n",
              "      <td>Burial</td>\n",
              "      <td>2004</td>\n",
              "      <td>10979</td>\n",
              "    </tr>\n",
              "    <tr>\n",
              "      <th>2</th>\n",
              "      <td>Burial</td>\n",
              "      <td>2005</td>\n",
              "      <td>10942</td>\n",
              "    </tr>\n",
              "    <tr>\n",
              "      <th>3</th>\n",
              "      <td>Burial</td>\n",
              "      <td>2006</td>\n",
              "      <td>10560</td>\n",
              "    </tr>\n",
              "    <tr>\n",
              "      <th>4</th>\n",
              "      <td>Burial</td>\n",
              "      <td>2007</td>\n",
              "      <td>10227</td>\n",
              "    </tr>\n",
              "    <tr>\n",
              "      <th>5</th>\n",
              "      <td>Burial</td>\n",
              "      <td>2008</td>\n",
              "      <td>9740</td>\n",
              "    </tr>\n",
              "    <tr>\n",
              "      <th>9</th>\n",
              "      <td>Burial</td>\n",
              "      <td>2012</td>\n",
              "      <td>9407</td>\n",
              "    </tr>\n",
              "    <tr>\n",
              "      <th>6</th>\n",
              "      <td>Burial</td>\n",
              "      <td>2009</td>\n",
              "      <td>9392</td>\n",
              "    </tr>\n",
              "    <tr>\n",
              "      <th>7</th>\n",
              "      <td>Burial</td>\n",
              "      <td>2010</td>\n",
              "      <td>9249</td>\n",
              "    </tr>\n",
              "    <tr>\n",
              "      <th>8</th>\n",
              "      <td>Burial</td>\n",
              "      <td>2011</td>\n",
              "      <td>9095</td>\n",
              "    </tr>\n",
              "    <tr>\n",
              "      <th>10</th>\n",
              "      <td>Burial</td>\n",
              "      <td>2013</td>\n",
              "      <td>8957</td>\n",
              "    </tr>\n",
              "    <tr>\n",
              "      <th>11</th>\n",
              "      <td>Burial</td>\n",
              "      <td>2014</td>\n",
              "      <td>8914</td>\n",
              "    </tr>\n",
              "    <tr>\n",
              "      <th>13</th>\n",
              "      <td>Burial</td>\n",
              "      <td>2016</td>\n",
              "      <td>8710</td>\n",
              "    </tr>\n",
              "    <tr>\n",
              "      <th>12</th>\n",
              "      <td>Burial</td>\n",
              "      <td>2015</td>\n",
              "      <td>8572</td>\n",
              "    </tr>\n",
              "    <tr>\n",
              "      <th>14</th>\n",
              "      <td>Burial</td>\n",
              "      <td>2017</td>\n",
              "      <td>8568</td>\n",
              "    </tr>\n",
              "    <tr>\n",
              "      <th>29</th>\n",
              "      <td>Cremation</td>\n",
              "      <td>2017</td>\n",
              "      <td>5163</td>\n",
              "    </tr>\n",
              "    <tr>\n",
              "      <th>28</th>\n",
              "      <td>Cremation</td>\n",
              "      <td>2016</td>\n",
              "      <td>4931</td>\n",
              "    </tr>\n",
              "    <tr>\n",
              "      <th>27</th>\n",
              "      <td>Cremation</td>\n",
              "      <td>2015</td>\n",
              "      <td>4521</td>\n",
              "    </tr>\n",
              "    <tr>\n",
              "      <th>26</th>\n",
              "      <td>Cremation</td>\n",
              "      <td>2014</td>\n",
              "      <td>4383</td>\n",
              "    </tr>\n",
              "    <tr>\n",
              "      <th>25</th>\n",
              "      <td>Cremation</td>\n",
              "      <td>2013</td>\n",
              "      <td>4119</td>\n",
              "    </tr>\n",
              "    <tr>\n",
              "      <th>24</th>\n",
              "      <td>Cremation</td>\n",
              "      <td>2012</td>\n",
              "      <td>3911</td>\n",
              "    </tr>\n",
              "    <tr>\n",
              "      <th>23</th>\n",
              "      <td>Cremation</td>\n",
              "      <td>2011</td>\n",
              "      <td>3869</td>\n",
              "    </tr>\n",
              "    <tr>\n",
              "      <th>22</th>\n",
              "      <td>Cremation</td>\n",
              "      <td>2010</td>\n",
              "      <td>3722</td>\n",
              "    </tr>\n",
              "    <tr>\n",
              "      <th>21</th>\n",
              "      <td>Cremation</td>\n",
              "      <td>2009</td>\n",
              "      <td>3586</td>\n",
              "    </tr>\n",
              "    <tr>\n",
              "      <th>20</th>\n",
              "      <td>Cremation</td>\n",
              "      <td>2008</td>\n",
              "      <td>3377</td>\n",
              "    </tr>\n",
              "    <tr>\n",
              "      <th>19</th>\n",
              "      <td>Cremation</td>\n",
              "      <td>2007</td>\n",
              "      <td>3197</td>\n",
              "    </tr>\n",
              "    <tr>\n",
              "      <th>18</th>\n",
              "      <td>Cremation</td>\n",
              "      <td>2006</td>\n",
              "      <td>3104</td>\n",
              "    </tr>\n",
              "    <tr>\n",
              "      <th>17</th>\n",
              "      <td>Cremation</td>\n",
              "      <td>2005</td>\n",
              "      <td>3060</td>\n",
              "    </tr>\n",
              "    <tr>\n",
              "      <th>15</th>\n",
              "      <td>Cremation</td>\n",
              "      <td>2003</td>\n",
              "      <td>3006</td>\n",
              "    </tr>\n",
              "    <tr>\n",
              "      <th>16</th>\n",
              "      <td>Cremation</td>\n",
              "      <td>2004</td>\n",
              "      <td>3002</td>\n",
              "    </tr>\n",
              "  </tbody>\n",
              "</table>\n",
              "</div>"
            ],
            "text/plain": [
              "   disposition_description  year  deaths\n",
              "0                   Burial  2003   11543\n",
              "1                   Burial  2004   10979\n",
              "2                   Burial  2005   10942\n",
              "3                   Burial  2006   10560\n",
              "4                   Burial  2007   10227\n",
              "5                   Burial  2008    9740\n",
              "9                   Burial  2012    9407\n",
              "6                   Burial  2009    9392\n",
              "7                   Burial  2010    9249\n",
              "8                   Burial  2011    9095\n",
              "10                  Burial  2013    8957\n",
              "11                  Burial  2014    8914\n",
              "13                  Burial  2016    8710\n",
              "12                  Burial  2015    8572\n",
              "14                  Burial  2017    8568\n",
              "29               Cremation  2017    5163\n",
              "28               Cremation  2016    4931\n",
              "27               Cremation  2015    4521\n",
              "26               Cremation  2014    4383\n",
              "25               Cremation  2013    4119\n",
              "24               Cremation  2012    3911\n",
              "23               Cremation  2011    3869\n",
              "22               Cremation  2010    3722\n",
              "21               Cremation  2009    3586\n",
              "20               Cremation  2008    3377\n",
              "19               Cremation  2007    3197\n",
              "18               Cremation  2006    3104\n",
              "17               Cremation  2005    3060\n",
              "15               Cremation  2003    3006\n",
              "16               Cremation  2004    3002"
            ]
          },
          "metadata": {
            "tags": []
          },
          "execution_count": 28
        }
      ]
    },
    {
      "cell_type": "markdown",
      "metadata": {
        "id": "qG_xzlLDn9Pi"
      },
      "source": [
        "11. Creating new columns\n",
        "\n",
        "\n",
        "\n",
        "---\n",
        "\n",
        "\n",
        "To create new columns in our dataframe we can use the method assign. This works similarly to dplyr's mutate function in R. Note that, unlike mutate, we need to specify the columns with either dataframe_name.column_name or dataframe_name['column_name']. Similar to in R, to use the dataframe_name.column_name style your column names can't have spaces or special characters. Luckily we've already used janitor.clean_names() so we won't have any problems."
      ]
    },
    {
      "cell_type": "code",
      "metadata": {
        "id": "FfGCcpo4x3DD",
        "colab": {
          "base_uri": "https://localhost:8080/",
          "height": 979
        },
        "outputId": "05328212-eb14-4bf3-e399-c04d8c3a3e13"
      },
      "source": [
        "queens_nyc.sort_values(by=['year','disposition_description'], ascending=False)"
      ],
      "execution_count": null,
      "outputs": [
        {
          "output_type": "execute_result",
          "data": {
            "text/html": [
              "<div>\n",
              "<style scoped>\n",
              "    .dataframe tbody tr th:only-of-type {\n",
              "        vertical-align: middle;\n",
              "    }\n",
              "\n",
              "    .dataframe tbody tr th {\n",
              "        vertical-align: top;\n",
              "    }\n",
              "\n",
              "    .dataframe thead th {\n",
              "        text-align: right;\n",
              "    }\n",
              "</style>\n",
              "<table border=\"1\" class=\"dataframe\">\n",
              "  <thead>\n",
              "    <tr style=\"text-align: right;\">\n",
              "      <th></th>\n",
              "      <th>disposition_description</th>\n",
              "      <th>year</th>\n",
              "      <th>deaths</th>\n",
              "    </tr>\n",
              "  </thead>\n",
              "  <tbody>\n",
              "    <tr>\n",
              "      <th>29</th>\n",
              "      <td>Cremation</td>\n",
              "      <td>2017</td>\n",
              "      <td>5163</td>\n",
              "    </tr>\n",
              "    <tr>\n",
              "      <th>14</th>\n",
              "      <td>Burial</td>\n",
              "      <td>2017</td>\n",
              "      <td>8568</td>\n",
              "    </tr>\n",
              "    <tr>\n",
              "      <th>28</th>\n",
              "      <td>Cremation</td>\n",
              "      <td>2016</td>\n",
              "      <td>4931</td>\n",
              "    </tr>\n",
              "    <tr>\n",
              "      <th>13</th>\n",
              "      <td>Burial</td>\n",
              "      <td>2016</td>\n",
              "      <td>8710</td>\n",
              "    </tr>\n",
              "    <tr>\n",
              "      <th>27</th>\n",
              "      <td>Cremation</td>\n",
              "      <td>2015</td>\n",
              "      <td>4521</td>\n",
              "    </tr>\n",
              "    <tr>\n",
              "      <th>12</th>\n",
              "      <td>Burial</td>\n",
              "      <td>2015</td>\n",
              "      <td>8572</td>\n",
              "    </tr>\n",
              "    <tr>\n",
              "      <th>26</th>\n",
              "      <td>Cremation</td>\n",
              "      <td>2014</td>\n",
              "      <td>4383</td>\n",
              "    </tr>\n",
              "    <tr>\n",
              "      <th>11</th>\n",
              "      <td>Burial</td>\n",
              "      <td>2014</td>\n",
              "      <td>8914</td>\n",
              "    </tr>\n",
              "    <tr>\n",
              "      <th>25</th>\n",
              "      <td>Cremation</td>\n",
              "      <td>2013</td>\n",
              "      <td>4119</td>\n",
              "    </tr>\n",
              "    <tr>\n",
              "      <th>10</th>\n",
              "      <td>Burial</td>\n",
              "      <td>2013</td>\n",
              "      <td>8957</td>\n",
              "    </tr>\n",
              "    <tr>\n",
              "      <th>24</th>\n",
              "      <td>Cremation</td>\n",
              "      <td>2012</td>\n",
              "      <td>3911</td>\n",
              "    </tr>\n",
              "    <tr>\n",
              "      <th>9</th>\n",
              "      <td>Burial</td>\n",
              "      <td>2012</td>\n",
              "      <td>9407</td>\n",
              "    </tr>\n",
              "    <tr>\n",
              "      <th>23</th>\n",
              "      <td>Cremation</td>\n",
              "      <td>2011</td>\n",
              "      <td>3869</td>\n",
              "    </tr>\n",
              "    <tr>\n",
              "      <th>8</th>\n",
              "      <td>Burial</td>\n",
              "      <td>2011</td>\n",
              "      <td>9095</td>\n",
              "    </tr>\n",
              "    <tr>\n",
              "      <th>22</th>\n",
              "      <td>Cremation</td>\n",
              "      <td>2010</td>\n",
              "      <td>3722</td>\n",
              "    </tr>\n",
              "    <tr>\n",
              "      <th>7</th>\n",
              "      <td>Burial</td>\n",
              "      <td>2010</td>\n",
              "      <td>9249</td>\n",
              "    </tr>\n",
              "    <tr>\n",
              "      <th>21</th>\n",
              "      <td>Cremation</td>\n",
              "      <td>2009</td>\n",
              "      <td>3586</td>\n",
              "    </tr>\n",
              "    <tr>\n",
              "      <th>6</th>\n",
              "      <td>Burial</td>\n",
              "      <td>2009</td>\n",
              "      <td>9392</td>\n",
              "    </tr>\n",
              "    <tr>\n",
              "      <th>20</th>\n",
              "      <td>Cremation</td>\n",
              "      <td>2008</td>\n",
              "      <td>3377</td>\n",
              "    </tr>\n",
              "    <tr>\n",
              "      <th>5</th>\n",
              "      <td>Burial</td>\n",
              "      <td>2008</td>\n",
              "      <td>9740</td>\n",
              "    </tr>\n",
              "    <tr>\n",
              "      <th>19</th>\n",
              "      <td>Cremation</td>\n",
              "      <td>2007</td>\n",
              "      <td>3197</td>\n",
              "    </tr>\n",
              "    <tr>\n",
              "      <th>4</th>\n",
              "      <td>Burial</td>\n",
              "      <td>2007</td>\n",
              "      <td>10227</td>\n",
              "    </tr>\n",
              "    <tr>\n",
              "      <th>18</th>\n",
              "      <td>Cremation</td>\n",
              "      <td>2006</td>\n",
              "      <td>3104</td>\n",
              "    </tr>\n",
              "    <tr>\n",
              "      <th>3</th>\n",
              "      <td>Burial</td>\n",
              "      <td>2006</td>\n",
              "      <td>10560</td>\n",
              "    </tr>\n",
              "    <tr>\n",
              "      <th>17</th>\n",
              "      <td>Cremation</td>\n",
              "      <td>2005</td>\n",
              "      <td>3060</td>\n",
              "    </tr>\n",
              "    <tr>\n",
              "      <th>2</th>\n",
              "      <td>Burial</td>\n",
              "      <td>2005</td>\n",
              "      <td>10942</td>\n",
              "    </tr>\n",
              "    <tr>\n",
              "      <th>16</th>\n",
              "      <td>Cremation</td>\n",
              "      <td>2004</td>\n",
              "      <td>3002</td>\n",
              "    </tr>\n",
              "    <tr>\n",
              "      <th>1</th>\n",
              "      <td>Burial</td>\n",
              "      <td>2004</td>\n",
              "      <td>10979</td>\n",
              "    </tr>\n",
              "    <tr>\n",
              "      <th>15</th>\n",
              "      <td>Cremation</td>\n",
              "      <td>2003</td>\n",
              "      <td>3006</td>\n",
              "    </tr>\n",
              "    <tr>\n",
              "      <th>0</th>\n",
              "      <td>Burial</td>\n",
              "      <td>2003</td>\n",
              "      <td>11543</td>\n",
              "    </tr>\n",
              "  </tbody>\n",
              "</table>\n",
              "</div>"
            ],
            "text/plain": [
              "   disposition_description  year  deaths\n",
              "29               Cremation  2017    5163\n",
              "14                  Burial  2017    8568\n",
              "28               Cremation  2016    4931\n",
              "13                  Burial  2016    8710\n",
              "27               Cremation  2015    4521\n",
              "12                  Burial  2015    8572\n",
              "26               Cremation  2014    4383\n",
              "11                  Burial  2014    8914\n",
              "25               Cremation  2013    4119\n",
              "10                  Burial  2013    8957\n",
              "24               Cremation  2012    3911\n",
              "9                   Burial  2012    9407\n",
              "23               Cremation  2011    3869\n",
              "8                   Burial  2011    9095\n",
              "22               Cremation  2010    3722\n",
              "7                   Burial  2010    9249\n",
              "21               Cremation  2009    3586\n",
              "6                   Burial  2009    9392\n",
              "20               Cremation  2008    3377\n",
              "5                   Burial  2008    9740\n",
              "19               Cremation  2007    3197\n",
              "4                   Burial  2007   10227\n",
              "18               Cremation  2006    3104\n",
              "3                   Burial  2006   10560\n",
              "17               Cremation  2005    3060\n",
              "2                   Burial  2005   10942\n",
              "16               Cremation  2004    3002\n",
              "1                   Burial  2004   10979\n",
              "15               Cremation  2003    3006\n",
              "0                   Burial  2003   11543"
            ]
          },
          "metadata": {
            "tags": []
          },
          "execution_count": 29
        }
      ]
    },
    {
      "cell_type": "markdown",
      "metadata": {
        "id": "QxPpNRGozH3x"
      },
      "source": [
        "12. Format output with style\n",
        "\n",
        "\n",
        "---\n",
        "\n",
        "After using the dataset, one can count the total number of deaths in Queens county, NYC"
      ]
    },
    {
      "cell_type": "code",
      "metadata": {
        "id": "AVWUgoTbyPf3",
        "colab": {
          "base_uri": "https://localhost:8080/",
          "height": 164
        },
        "outputId": "7e5aaa8d-50fd-4eab-dd66-f5d80e5a4a28"
      },
      "source": [
        "('{:,}').format(sum_deaths)"
      ],
      "execution_count": null,
      "outputs": [
        {
          "output_type": "error",
          "ename": "NameError",
          "evalue": "ignored",
          "traceback": [
            "\u001b[0;31m---------------------------------------------------------------------------\u001b[0m",
            "\u001b[0;31mNameError\u001b[0m                                 Traceback (most recent call last)",
            "\u001b[0;32m<ipython-input-30-d562645f9d99>\u001b[0m in \u001b[0;36m<module>\u001b[0;34m()\u001b[0m\n\u001b[0;32m----> 1\u001b[0;31m \u001b[0;34m(\u001b[0m\u001b[0;34m'{:,}'\u001b[0m\u001b[0;34m)\u001b[0m\u001b[0;34m.\u001b[0m\u001b[0mformat\u001b[0m\u001b[0;34m(\u001b[0m\u001b[0msum_deaths\u001b[0m\u001b[0;34m)\u001b[0m\u001b[0;34m\u001b[0m\u001b[0;34m\u001b[0m\u001b[0m\n\u001b[0m",
            "\u001b[0;31mNameError\u001b[0m: name 'sum_deaths' is not defined"
          ]
        }
      ]
    },
    {
      "cell_type": "code",
      "metadata": {
        "id": "gWo2IjIG0pu7",
        "colab": {
          "base_uri": "https://localhost:8080/",
          "height": 164
        },
        "outputId": "4c271c5e-ab56-4d91-83f9-0765f9862ea7"
      },
      "source": [
        "deaths_by_region\n"
      ],
      "execution_count": null,
      "outputs": [
        {
          "output_type": "error",
          "ename": "NameError",
          "evalue": "ignored",
          "traceback": [
            "\u001b[0;31m---------------------------------------------------------------------------\u001b[0m",
            "\u001b[0;31mNameError\u001b[0m                                 Traceback (most recent call last)",
            "\u001b[0;32m<ipython-input-31-c54dd0c8de74>\u001b[0m in \u001b[0;36m<module>\u001b[0;34m()\u001b[0m\n\u001b[0;32m----> 1\u001b[0;31m \u001b[0mdeaths_by_region\u001b[0m\u001b[0;34m\u001b[0m\u001b[0;34m\u001b[0m\u001b[0m\n\u001b[0m",
            "\u001b[0;31mNameError\u001b[0m: name 'deaths_by_region' is not defined"
          ]
        }
      ]
    },
    {
      "cell_type": "markdown",
      "metadata": {
        "id": "daZ2zuMO543J"
      },
      "source": [
        "13. Grouping and aggregating\n",
        "\n",
        "\n",
        "\n",
        "---\n",
        "\n",
        "We can aggregate our dataframe by values of an existing column using the groupby method on our dataframe in combindation with one of a few different aggregation methods. This is similar to the pattern of dplyr's group_by and summarize in R.\n",
        "\n",
        "Like with dplyr's group_by() and ungroup(), it's important to \"ungroup\" your datagrame after your aggregation using reset_index()"
      ]
    },
    {
      "cell_type": "code",
      "metadata": {
        "id": "J0LVMwje8ESK",
        "colab": {
          "base_uri": "https://localhost:8080/",
          "height": 111
        },
        "outputId": "71fad5e6-63db-4336-8ed9-3682d20f5751"
      },
      "source": [
        "queens_nyc.groupby(['disposition_description']).count().reset_index().head()"
      ],
      "execution_count": null,
      "outputs": [
        {
          "output_type": "execute_result",
          "data": {
            "text/html": [
              "<div>\n",
              "<style scoped>\n",
              "    .dataframe tbody tr th:only-of-type {\n",
              "        vertical-align: middle;\n",
              "    }\n",
              "\n",
              "    .dataframe tbody tr th {\n",
              "        vertical-align: top;\n",
              "    }\n",
              "\n",
              "    .dataframe thead th {\n",
              "        text-align: right;\n",
              "    }\n",
              "</style>\n",
              "<table border=\"1\" class=\"dataframe\">\n",
              "  <thead>\n",
              "    <tr style=\"text-align: right;\">\n",
              "      <th></th>\n",
              "      <th>disposition_description</th>\n",
              "      <th>year</th>\n",
              "      <th>deaths</th>\n",
              "    </tr>\n",
              "  </thead>\n",
              "  <tbody>\n",
              "    <tr>\n",
              "      <th>0</th>\n",
              "      <td>Burial</td>\n",
              "      <td>15</td>\n",
              "      <td>15</td>\n",
              "    </tr>\n",
              "    <tr>\n",
              "      <th>1</th>\n",
              "      <td>Cremation</td>\n",
              "      <td>15</td>\n",
              "      <td>15</td>\n",
              "    </tr>\n",
              "  </tbody>\n",
              "</table>\n",
              "</div>"
            ],
            "text/plain": [
              "  disposition_description  year  deaths\n",
              "0                  Burial    15      15\n",
              "1               Cremation    15      15"
            ]
          },
          "metadata": {
            "tags": []
          },
          "execution_count": 32
        }
      ]
    },
    {
      "cell_type": "code",
      "metadata": {
        "id": "TqtcDUvd8VSu",
        "colab": {
          "base_uri": "https://localhost:8080/",
          "height": 204
        },
        "outputId": "566ad9d0-1889-43e1-d221-e62247c44370"
      },
      "source": [
        "queens_nyc.groupby(['deaths']).mean().reset_index().head()"
      ],
      "execution_count": null,
      "outputs": [
        {
          "output_type": "execute_result",
          "data": {
            "text/html": [
              "<div>\n",
              "<style scoped>\n",
              "    .dataframe tbody tr th:only-of-type {\n",
              "        vertical-align: middle;\n",
              "    }\n",
              "\n",
              "    .dataframe tbody tr th {\n",
              "        vertical-align: top;\n",
              "    }\n",
              "\n",
              "    .dataframe thead th {\n",
              "        text-align: right;\n",
              "    }\n",
              "</style>\n",
              "<table border=\"1\" class=\"dataframe\">\n",
              "  <thead>\n",
              "    <tr style=\"text-align: right;\">\n",
              "      <th></th>\n",
              "      <th>deaths</th>\n",
              "      <th>year</th>\n",
              "    </tr>\n",
              "  </thead>\n",
              "  <tbody>\n",
              "    <tr>\n",
              "      <th>0</th>\n",
              "      <td>3002</td>\n",
              "      <td>2004</td>\n",
              "    </tr>\n",
              "    <tr>\n",
              "      <th>1</th>\n",
              "      <td>3006</td>\n",
              "      <td>2003</td>\n",
              "    </tr>\n",
              "    <tr>\n",
              "      <th>2</th>\n",
              "      <td>3060</td>\n",
              "      <td>2005</td>\n",
              "    </tr>\n",
              "    <tr>\n",
              "      <th>3</th>\n",
              "      <td>3104</td>\n",
              "      <td>2006</td>\n",
              "    </tr>\n",
              "    <tr>\n",
              "      <th>4</th>\n",
              "      <td>3197</td>\n",
              "      <td>2007</td>\n",
              "    </tr>\n",
              "  </tbody>\n",
              "</table>\n",
              "</div>"
            ],
            "text/plain": [
              "   deaths  year\n",
              "0    3002  2004\n",
              "1    3006  2003\n",
              "2    3060  2005\n",
              "3    3104  2006\n",
              "4    3197  2007"
            ]
          },
          "metadata": {
            "tags": []
          },
          "execution_count": 33
        }
      ]
    },
    {
      "cell_type": "code",
      "metadata": {
        "id": "lxai1PTg8g7B",
        "colab": {
          "base_uri": "https://localhost:8080/",
          "height": 111
        },
        "outputId": "888eff69-0e80-4f3c-d08d-15cb08f324f6"
      },
      "source": [
        "queens_nyc.groupby(['disposition_description']).agg({'deaths':'sum'}).reset_index().head()"
      ],
      "execution_count": null,
      "outputs": [
        {
          "output_type": "execute_result",
          "data": {
            "text/html": [
              "<div>\n",
              "<style scoped>\n",
              "    .dataframe tbody tr th:only-of-type {\n",
              "        vertical-align: middle;\n",
              "    }\n",
              "\n",
              "    .dataframe tbody tr th {\n",
              "        vertical-align: top;\n",
              "    }\n",
              "\n",
              "    .dataframe thead th {\n",
              "        text-align: right;\n",
              "    }\n",
              "</style>\n",
              "<table border=\"1\" class=\"dataframe\">\n",
              "  <thead>\n",
              "    <tr style=\"text-align: right;\">\n",
              "      <th></th>\n",
              "      <th>disposition_description</th>\n",
              "      <th>deaths</th>\n",
              "    </tr>\n",
              "  </thead>\n",
              "  <tbody>\n",
              "    <tr>\n",
              "      <th>0</th>\n",
              "      <td>Burial</td>\n",
              "      <td>144855</td>\n",
              "    </tr>\n",
              "    <tr>\n",
              "      <th>1</th>\n",
              "      <td>Cremation</td>\n",
              "      <td>56951</td>\n",
              "    </tr>\n",
              "  </tbody>\n",
              "</table>\n",
              "</div>"
            ],
            "text/plain": [
              "  disposition_description  deaths\n",
              "0                  Burial  144855\n",
              "1               Cremation   56951"
            ]
          },
          "metadata": {
            "tags": []
          },
          "execution_count": 34
        }
      ]
    },
    {
      "cell_type": "markdown",
      "metadata": {
        "id": "NcGUuBsoyJaa"
      },
      "source": [
        "14. Plotting with matplotlib\n",
        "\n",
        "\n",
        "---\n",
        "\n",
        "\n",
        "Matplotlib is the most common plotting package and one can add other additional packages as well."
      ]
    },
    {
      "cell_type": "code",
      "metadata": {
        "id": "8hKBsCB7o8po"
      },
      "source": [
        "import matplotlib.pyplot as plt\n",
        "import pandas as pd\n",
        "import numpy as np\n",
        "#!pip install -q pyjanitor\n",
        "import janitor"
      ],
      "execution_count": null,
      "outputs": []
    },
    {
      "cell_type": "markdown",
      "metadata": {
        "id": "x8Paky0T9EOd"
      },
      "source": [
        "15. Import and Clean Dataset\n",
        "\n",
        "---\n",
        "\n"
      ]
    },
    {
      "cell_type": "code",
      "metadata": {
        "id": "oF7y_j4E9mKm",
        "colab": {
          "base_uri": "https://localhost:8080/",
          "height": 235
        },
        "outputId": "84af3f89-26a6-49a8-c42d-15da974d36ca"
      },
      "source": [
        "queens_nyc = queens_nyc.pivot(index = 'year', columns = 'disposition_description').reset_index()\n",
        "#it is important to reset the index here\n",
        "queens_nyc.head()"
      ],
      "execution_count": null,
      "outputs": [
        {
          "output_type": "execute_result",
          "data": {
            "text/html": [
              "<div>\n",
              "<style scoped>\n",
              "    .dataframe tbody tr th:only-of-type {\n",
              "        vertical-align: middle;\n",
              "    }\n",
              "\n",
              "    .dataframe tbody tr th {\n",
              "        vertical-align: top;\n",
              "    }\n",
              "\n",
              "    .dataframe thead tr th {\n",
              "        text-align: left;\n",
              "    }\n",
              "</style>\n",
              "<table border=\"1\" class=\"dataframe\">\n",
              "  <thead>\n",
              "    <tr>\n",
              "      <th></th>\n",
              "      <th>year</th>\n",
              "      <th colspan=\"2\" halign=\"left\">deaths</th>\n",
              "    </tr>\n",
              "    <tr>\n",
              "      <th>disposition_description</th>\n",
              "      <th></th>\n",
              "      <th>Burial</th>\n",
              "      <th>Cremation</th>\n",
              "    </tr>\n",
              "  </thead>\n",
              "  <tbody>\n",
              "    <tr>\n",
              "      <th>0</th>\n",
              "      <td>2003</td>\n",
              "      <td>11543</td>\n",
              "      <td>3006</td>\n",
              "    </tr>\n",
              "    <tr>\n",
              "      <th>1</th>\n",
              "      <td>2004</td>\n",
              "      <td>10979</td>\n",
              "      <td>3002</td>\n",
              "    </tr>\n",
              "    <tr>\n",
              "      <th>2</th>\n",
              "      <td>2005</td>\n",
              "      <td>10942</td>\n",
              "      <td>3060</td>\n",
              "    </tr>\n",
              "    <tr>\n",
              "      <th>3</th>\n",
              "      <td>2006</td>\n",
              "      <td>10560</td>\n",
              "      <td>3104</td>\n",
              "    </tr>\n",
              "    <tr>\n",
              "      <th>4</th>\n",
              "      <td>2007</td>\n",
              "      <td>10227</td>\n",
              "      <td>3197</td>\n",
              "    </tr>\n",
              "  </tbody>\n",
              "</table>\n",
              "</div>"
            ],
            "text/plain": [
              "                         year deaths          \n",
              "disposition_description       Burial Cremation\n",
              "0                        2003  11543      3006\n",
              "1                        2004  10979      3002\n",
              "2                        2005  10942      3060\n",
              "3                        2006  10560      3104\n",
              "4                        2007  10227      3197"
            ]
          },
          "metadata": {
            "tags": []
          },
          "execution_count": 36
        }
      ]
    },
    {
      "cell_type": "markdown",
      "metadata": {
        "id": "V92eMqEb_qat"
      },
      "source": [
        "16. Import and Clean Dataset\n",
        "\n",
        "\n",
        "---\n",
        "\n"
      ]
    },
    {
      "cell_type": "code",
      "metadata": {
        "id": "3sbqERAe_pfD",
        "colab": {
          "base_uri": "https://localhost:8080/",
          "height": 979
        },
        "outputId": "dd6fe9f7-6cdd-4581-acf0-60a95b4990df"
      },
      "source": [
        "queens_nyc = (\n",
        "    vital_new\n",
        "      .query(\"county_name == 'Queens'\")\n",
        "      .query(\"region == 'NYC'\")\n",
        "      .query(\"disposition_description == 'Cremation' or disposition_description == 'Burial' \")\n",
        "      .groupby(['disposition_description','year'])\n",
        "      .sum()\n",
        "      .reset_index()\n",
        "      .sort_values('deaths', ascending = False)\n",
        "      )\n",
        "\n",
        "queens_nyc"
      ],
      "execution_count": null,
      "outputs": [
        {
          "output_type": "execute_result",
          "data": {
            "text/html": [
              "<div>\n",
              "<style scoped>\n",
              "    .dataframe tbody tr th:only-of-type {\n",
              "        vertical-align: middle;\n",
              "    }\n",
              "\n",
              "    .dataframe tbody tr th {\n",
              "        vertical-align: top;\n",
              "    }\n",
              "\n",
              "    .dataframe thead th {\n",
              "        text-align: right;\n",
              "    }\n",
              "</style>\n",
              "<table border=\"1\" class=\"dataframe\">\n",
              "  <thead>\n",
              "    <tr style=\"text-align: right;\">\n",
              "      <th></th>\n",
              "      <th>disposition_description</th>\n",
              "      <th>year</th>\n",
              "      <th>deaths</th>\n",
              "    </tr>\n",
              "  </thead>\n",
              "  <tbody>\n",
              "    <tr>\n",
              "      <th>0</th>\n",
              "      <td>Burial</td>\n",
              "      <td>2003</td>\n",
              "      <td>11543</td>\n",
              "    </tr>\n",
              "    <tr>\n",
              "      <th>1</th>\n",
              "      <td>Burial</td>\n",
              "      <td>2004</td>\n",
              "      <td>10979</td>\n",
              "    </tr>\n",
              "    <tr>\n",
              "      <th>2</th>\n",
              "      <td>Burial</td>\n",
              "      <td>2005</td>\n",
              "      <td>10942</td>\n",
              "    </tr>\n",
              "    <tr>\n",
              "      <th>3</th>\n",
              "      <td>Burial</td>\n",
              "      <td>2006</td>\n",
              "      <td>10560</td>\n",
              "    </tr>\n",
              "    <tr>\n",
              "      <th>4</th>\n",
              "      <td>Burial</td>\n",
              "      <td>2007</td>\n",
              "      <td>10227</td>\n",
              "    </tr>\n",
              "    <tr>\n",
              "      <th>5</th>\n",
              "      <td>Burial</td>\n",
              "      <td>2008</td>\n",
              "      <td>9740</td>\n",
              "    </tr>\n",
              "    <tr>\n",
              "      <th>9</th>\n",
              "      <td>Burial</td>\n",
              "      <td>2012</td>\n",
              "      <td>9407</td>\n",
              "    </tr>\n",
              "    <tr>\n",
              "      <th>6</th>\n",
              "      <td>Burial</td>\n",
              "      <td>2009</td>\n",
              "      <td>9392</td>\n",
              "    </tr>\n",
              "    <tr>\n",
              "      <th>7</th>\n",
              "      <td>Burial</td>\n",
              "      <td>2010</td>\n",
              "      <td>9249</td>\n",
              "    </tr>\n",
              "    <tr>\n",
              "      <th>8</th>\n",
              "      <td>Burial</td>\n",
              "      <td>2011</td>\n",
              "      <td>9095</td>\n",
              "    </tr>\n",
              "    <tr>\n",
              "      <th>10</th>\n",
              "      <td>Burial</td>\n",
              "      <td>2013</td>\n",
              "      <td>8957</td>\n",
              "    </tr>\n",
              "    <tr>\n",
              "      <th>11</th>\n",
              "      <td>Burial</td>\n",
              "      <td>2014</td>\n",
              "      <td>8914</td>\n",
              "    </tr>\n",
              "    <tr>\n",
              "      <th>13</th>\n",
              "      <td>Burial</td>\n",
              "      <td>2016</td>\n",
              "      <td>8710</td>\n",
              "    </tr>\n",
              "    <tr>\n",
              "      <th>12</th>\n",
              "      <td>Burial</td>\n",
              "      <td>2015</td>\n",
              "      <td>8572</td>\n",
              "    </tr>\n",
              "    <tr>\n",
              "      <th>14</th>\n",
              "      <td>Burial</td>\n",
              "      <td>2017</td>\n",
              "      <td>8568</td>\n",
              "    </tr>\n",
              "    <tr>\n",
              "      <th>29</th>\n",
              "      <td>Cremation</td>\n",
              "      <td>2017</td>\n",
              "      <td>5163</td>\n",
              "    </tr>\n",
              "    <tr>\n",
              "      <th>28</th>\n",
              "      <td>Cremation</td>\n",
              "      <td>2016</td>\n",
              "      <td>4931</td>\n",
              "    </tr>\n",
              "    <tr>\n",
              "      <th>27</th>\n",
              "      <td>Cremation</td>\n",
              "      <td>2015</td>\n",
              "      <td>4521</td>\n",
              "    </tr>\n",
              "    <tr>\n",
              "      <th>26</th>\n",
              "      <td>Cremation</td>\n",
              "      <td>2014</td>\n",
              "      <td>4383</td>\n",
              "    </tr>\n",
              "    <tr>\n",
              "      <th>25</th>\n",
              "      <td>Cremation</td>\n",
              "      <td>2013</td>\n",
              "      <td>4119</td>\n",
              "    </tr>\n",
              "    <tr>\n",
              "      <th>24</th>\n",
              "      <td>Cremation</td>\n",
              "      <td>2012</td>\n",
              "      <td>3911</td>\n",
              "    </tr>\n",
              "    <tr>\n",
              "      <th>23</th>\n",
              "      <td>Cremation</td>\n",
              "      <td>2011</td>\n",
              "      <td>3869</td>\n",
              "    </tr>\n",
              "    <tr>\n",
              "      <th>22</th>\n",
              "      <td>Cremation</td>\n",
              "      <td>2010</td>\n",
              "      <td>3722</td>\n",
              "    </tr>\n",
              "    <tr>\n",
              "      <th>21</th>\n",
              "      <td>Cremation</td>\n",
              "      <td>2009</td>\n",
              "      <td>3586</td>\n",
              "    </tr>\n",
              "    <tr>\n",
              "      <th>20</th>\n",
              "      <td>Cremation</td>\n",
              "      <td>2008</td>\n",
              "      <td>3377</td>\n",
              "    </tr>\n",
              "    <tr>\n",
              "      <th>19</th>\n",
              "      <td>Cremation</td>\n",
              "      <td>2007</td>\n",
              "      <td>3197</td>\n",
              "    </tr>\n",
              "    <tr>\n",
              "      <th>18</th>\n",
              "      <td>Cremation</td>\n",
              "      <td>2006</td>\n",
              "      <td>3104</td>\n",
              "    </tr>\n",
              "    <tr>\n",
              "      <th>17</th>\n",
              "      <td>Cremation</td>\n",
              "      <td>2005</td>\n",
              "      <td>3060</td>\n",
              "    </tr>\n",
              "    <tr>\n",
              "      <th>15</th>\n",
              "      <td>Cremation</td>\n",
              "      <td>2003</td>\n",
              "      <td>3006</td>\n",
              "    </tr>\n",
              "    <tr>\n",
              "      <th>16</th>\n",
              "      <td>Cremation</td>\n",
              "      <td>2004</td>\n",
              "      <td>3002</td>\n",
              "    </tr>\n",
              "  </tbody>\n",
              "</table>\n",
              "</div>"
            ],
            "text/plain": [
              "   disposition_description  year  deaths\n",
              "0                   Burial  2003   11543\n",
              "1                   Burial  2004   10979\n",
              "2                   Burial  2005   10942\n",
              "3                   Burial  2006   10560\n",
              "4                   Burial  2007   10227\n",
              "5                   Burial  2008    9740\n",
              "9                   Burial  2012    9407\n",
              "6                   Burial  2009    9392\n",
              "7                   Burial  2010    9249\n",
              "8                   Burial  2011    9095\n",
              "10                  Burial  2013    8957\n",
              "11                  Burial  2014    8914\n",
              "13                  Burial  2016    8710\n",
              "12                  Burial  2015    8572\n",
              "14                  Burial  2017    8568\n",
              "29               Cremation  2017    5163\n",
              "28               Cremation  2016    4931\n",
              "27               Cremation  2015    4521\n",
              "26               Cremation  2014    4383\n",
              "25               Cremation  2013    4119\n",
              "24               Cremation  2012    3911\n",
              "23               Cremation  2011    3869\n",
              "22               Cremation  2010    3722\n",
              "21               Cremation  2009    3586\n",
              "20               Cremation  2008    3377\n",
              "19               Cremation  2007    3197\n",
              "18               Cremation  2006    3104\n",
              "17               Cremation  2005    3060\n",
              "15               Cremation  2003    3006\n",
              "16               Cremation  2004    3002"
            ]
          },
          "metadata": {
            "tags": []
          },
          "execution_count": 37
        }
      ]
    },
    {
      "cell_type": "code",
      "metadata": {
        "id": "tlIVwuKc_2AA",
        "colab": {
          "base_uri": "https://localhost:8080/",
          "height": 204
        },
        "outputId": "e1afee04-f807-4ee6-bc11-56f7a65c58af"
      },
      "source": [
        "queens_pivoted = queens_nyc.pivot(index ='year', columns ='disposition_description', values ='deaths').reset_index()\n",
        "queens_pivoted.head()"
      ],
      "execution_count": null,
      "outputs": [
        {
          "output_type": "execute_result",
          "data": {
            "text/html": [
              "<div>\n",
              "<style scoped>\n",
              "    .dataframe tbody tr th:only-of-type {\n",
              "        vertical-align: middle;\n",
              "    }\n",
              "\n",
              "    .dataframe tbody tr th {\n",
              "        vertical-align: top;\n",
              "    }\n",
              "\n",
              "    .dataframe thead th {\n",
              "        text-align: right;\n",
              "    }\n",
              "</style>\n",
              "<table border=\"1\" class=\"dataframe\">\n",
              "  <thead>\n",
              "    <tr style=\"text-align: right;\">\n",
              "      <th>disposition_description</th>\n",
              "      <th>year</th>\n",
              "      <th>Burial</th>\n",
              "      <th>Cremation</th>\n",
              "    </tr>\n",
              "  </thead>\n",
              "  <tbody>\n",
              "    <tr>\n",
              "      <th>0</th>\n",
              "      <td>2003</td>\n",
              "      <td>11543</td>\n",
              "      <td>3006</td>\n",
              "    </tr>\n",
              "    <tr>\n",
              "      <th>1</th>\n",
              "      <td>2004</td>\n",
              "      <td>10979</td>\n",
              "      <td>3002</td>\n",
              "    </tr>\n",
              "    <tr>\n",
              "      <th>2</th>\n",
              "      <td>2005</td>\n",
              "      <td>10942</td>\n",
              "      <td>3060</td>\n",
              "    </tr>\n",
              "    <tr>\n",
              "      <th>3</th>\n",
              "      <td>2006</td>\n",
              "      <td>10560</td>\n",
              "      <td>3104</td>\n",
              "    </tr>\n",
              "    <tr>\n",
              "      <th>4</th>\n",
              "      <td>2007</td>\n",
              "      <td>10227</td>\n",
              "      <td>3197</td>\n",
              "    </tr>\n",
              "  </tbody>\n",
              "</table>\n",
              "</div>"
            ],
            "text/plain": [
              "disposition_description  year  Burial  Cremation\n",
              "0                        2003   11543       3006\n",
              "1                        2004   10979       3002\n",
              "2                        2005   10942       3060\n",
              "3                        2006   10560       3104\n",
              "4                        2007   10227       3197"
            ]
          },
          "metadata": {
            "tags": []
          },
          "execution_count": 38
        }
      ]
    },
    {
      "cell_type": "markdown",
      "metadata": {
        "id": "tMz-wS41Ufdo"
      },
      "source": [
        "17. Creating a Bar Chart-1"
      ]
    },
    {
      "cell_type": "code",
      "metadata": {
        "id": "SPKiIGhYTLgr",
        "colab": {
          "base_uri": "https://localhost:8080/",
          "height": 295
        },
        "outputId": "36ed16ed-8d9e-43ba-d420-fa28bf2b1c3e"
      },
      "source": [
        "x1 = ['20O3','2004','2005','2006','2007']\n",
        "y1 = [11543, 10979, 10942, 10560, 10227]\n",
        "y2 = [3006, 3002, 3060, 3104, 3197]\n",
        "\n",
        "# Colors: https://matplotlib.org/api/colors_api.html\n",
        "\n",
        "plt.bar(x1, y1, label=\"Burial\", color='b')\n",
        "plt.bar(x1, y2, label=\"Cremation\", color='g')\n",
        "plt.plot()\n",
        "\n",
        "plt.xlabel(\"Year\")\n",
        "plt.ylabel(\"disposition_description\")\n",
        "plt.title(\"Burial Vs Cremation in Queens County, NYC\")\n",
        "plt.legend()\n",
        "plt.show()"
      ],
      "execution_count": null,
      "outputs": [
        {
          "output_type": "display_data",
          "data": {
            "image/png": "[encoded data removed]",
            "text/plain": [
              "<Figure size 432x288 with 1 Axes>"
            ]
          },
          "metadata": {
            "tags": []
          }
        }
      ]
    },
    {
      "cell_type": "markdown",
      "metadata": {
        "id": "YfmJ9Siwp-X2"
      },
      "source": [
        "Source: Vital Statistics Deaths by Resident County, Region, Place of Death: Beginning 2003, NYC Gov"
      ]
    },
    {
      "cell_type": "markdown",
      "metadata": {
        "id": "iC0tZyvX_50p"
      },
      "source": [
        "18. Creating a Graph-2\n",
        "\n",
        "\n",
        "---\n",
        "\n"
      ]
    },
    {
      "cell_type": "code",
      "metadata": {
        "id": "bi6uIva3WRmc",
        "colab": {
          "base_uri": "https://localhost:8080/",
          "height": 310
        },
        "outputId": "d219b690-55c8-4106-f5dd-8ac96cc33441"
      },
      "source": [
        "y1 = queens_pivoted['Burial']\n",
        "y2 = queens_pivoted['Cremation']\n",
        "years = ['2003', '2004', '2005', '2006', '2007', '2008', '2009', '2010', '2011', '2012', '2013', '2014', '2015', '2016', '2017']\n",
        "X = np.arange(15)\n",
        "plt.xticks(X,years) \n",
        "\n",
        "plt.bar(X + 0.00, y1, label=\"Burial\", color = '#1f78b4', width = 0.40)\n",
        "plt.bar(X + 0.40, y2, label=\"Cremation\", color = '#beaed4', width = 0.40)\n",
        "\n",
        "plt.xticks(rotation=-45, horizontalalignment=\"left\")\n",
        "\n",
        "plt.plot()\n",
        "\n",
        "plt.xlabel(\"Year\")\n",
        "plt.ylabel(\"Deaths\")\n",
        "plt.title(\"Burial Vs Cremation in Queens County, NYC\")\n",
        "plt.legend()\n",
        "plt.show()"
      ],
      "execution_count": null,
      "outputs": [
        {
          "output_type": "display_data",
          "data": {
            "image/png": "[encoded data removed]",
            "text/plain": [
              "<Figure size 432x288 with 1 Axes>"
            ]
          },
          "metadata": {
            "tags": []
          }
        }
      ]
    },
    {
      "cell_type": "code",
      "metadata": {
        "id": "r_I4JT2OaasB",
        "colab": {
          "base_uri": "https://localhost:8080/",
          "height": 404
        },
        "outputId": "2bea5849-aff7-4f68-9a2d-0ff9ecbdb54c"
      },
      "source": [
        "plt.figure(figsize=(15,6))\n",
        "plt.plot( 'year', 'Burial', data=queens_pivoted, color='blue', label= \"Burial\")\n",
        "plt.plot( 'year', 'Cremation', data=queens_pivoted, color='purple', label= \"Cremation\")\n",
        "#2001 is the starting point, 2017 is the end point, and 1 is the interval\n",
        "plt.xlim(2003, 2030)\n",
        "plt.xticks(np.arange(2003, 2030, 1))\n",
        "plt.xlabel(\"Year\")\n",
        "plt.ylabel(\"Deaths\")\n",
        "plt.title(\"Burial Vs Cremation in Queens County, NYC 2003-2017\")\n",
        "plt.legend()\n",
        "plt.show()"
      ],
      "execution_count": null,
      "outputs": [
        {
          "output_type": "display_data",
          "data": {
            "image/png": "[encoded data removed]",
            "text/plain": [
              "<Figure size 1080x432 with 1 Axes>"
            ]
          },
          "metadata": {
            "tags": []
          }
        }
      ]
    },
    {
      "cell_type": "code",
      "metadata": {
        "id": "2cC7xl3oaRt4"
      },
      "source": [
        ""
      ],
      "execution_count": null,
      "outputs": []
    },
    {
      "cell_type": "markdown",
      "metadata": {
        "id": "8tFal-82qDKG"
      },
      "source": [
        "Source: Vital Statistics Deaths by Resident County, Region, Place of Death: Beginning 2003, NYC Gov\n"
      ]
    },
    {
      "cell_type": "markdown",
      "metadata": {
        "id": "dBgU_M1XR-7j"
      },
      "source": [
        "19. Creating a Graph-3\n",
        "\n",
        "\n",
        "---\n",
        "\n"
      ]
    },
    {
      "cell_type": "code",
      "metadata": {
        "id": "vUnDcHUNZXJw",
        "colab": {
          "base_uri": "https://localhost:8080/",
          "height": 621
        },
        "outputId": "926ce634-0231-44fe-e39a-2f24a91f8665"
      },
      "source": [
        "x1 = ['2003', '2004', '2005', '2006', '2007', '2008', '2009', '2010', '2011', '2012', '2013', '2014', '2015', '2016', '2017']\n",
        "y1 = [11543, 10979, 10942, 10560, 10227, 9740, 9392, 9249, 9095, 9407, 8957, 8914, 8572, 8710, 8568]\n",
        "y2 = [3006, 3002, 3060, 3104, 3197, 3377, 3586, 3722, 3869, 3911, 4119, 4383, 4521, 4931, 5163]\n",
        "\n",
        "# Colors: https://matplotlib.org/api/colors_api.html\n",
        "\n",
        "plt.bar(x1, y1, label=\"Burial\", color='b')\n",
        "plt.bar(x1, y2, label=\"Cremation\", color='g')\n",
        "plt.plot()\n",
        "\n",
        "plt.xlabel(\"Year\")\n",
        "plt.ylabel(\"disposition_description\")\n",
        "plt.title(\"Burial Vs Cremation in Queens County, NYC\")\n",
        "plt.legend()\n",
        "plt.show()"
      ],
      "execution_count": null,
      "outputs": [
        {
          "output_type": "display_data",
          "data": {
            "image/png": "[encoded data removed]",
            "text/plain": [
              "<Figure size 1440x720 with 1 Axes>"
            ]
          },
          "metadata": {
            "tags": []
          }
        }
      ]
    },
    {
      "cell_type": "markdown",
      "metadata": {
        "id": "RKlbpPQTqHuF"
      },
      "source": [
        "Source : Vital Statistics Deaths by Resident County, Region, Place of Death: Beginning 2003, NYC Gov"
      ]
    },
    {
      "cell_type": "markdown",
      "metadata": {
        "id": "Ca29as1ESA8o"
      },
      "source": [
        "20. Creating a Graph-4\n",
        "\n",
        "\n",
        "---\n",
        "\n"
      ]
    },
    {
      "cell_type": "code",
      "metadata": {
        "id": "MlizY-CqSCCV",
        "colab": {
          "base_uri": "https://localhost:8080/",
          "height": 1000
        },
        "outputId": "83884024-2b30-45dd-f3d1-35ad8243f738"
      },
      "source": [
        "# Use numpy to generate a bunch of random data in a bell curve around 5.\n",
        "n = 5 + np.random.randn(15)\n",
        "\n",
        "m = [m for m in range(len(n))]\n",
        "plt.bar(m, n)\n",
        "plt.title(\"Burial Vs Cremation in Queens County, NYC\")\n",
        "plt.show()\n",
        "\n",
        "plt.hist(n, bins=20)\n",
        "plt.title(\"Histogram\")\n",
        "plt.show()\n",
        "\n",
        "plt.hist(n, cumulative=True, bins=20)\n",
        "plt.title(\"Cumulative Histogram\")\n",
        "plt.show()"
      ],
      "execution_count": null,
      "outputs": [
        {
          "output_type": "display_data",
          "data": {
            "image/png": "[encoded data removed]",
            "text/plain": [
              "<Figure size 1440x720 with 1 Axes>"
            ]
          },
          "metadata": {
            "tags": []
          }
        },
        {
          "output_type": "display_data",
          "data": {
            "image/png": "[encoded data removed]",
            "text/plain": [
              "<Figure size 1440x720 with 1 Axes>"
            ]
          },
          "metadata": {
            "tags": []
          }
        },
        {
          "output_type": "display_data",
          "data": {
            "image/png": "[encoded data removed]",
            "text/plain": [
              "<Figure size 1440x720 with 1 Axes>"
            ]
          },
          "metadata": {
            "tags": []
          }
        }
      ]
    },
    {
      "cell_type": "markdown",
      "metadata": {
        "id": "N3BLVasUS0um"
      },
      "source": [
        "21. Creating a Graph-5\n",
        "\n",
        "\n",
        "---\n",
        "\n"
      ]
    },
    {
      "cell_type": "code",
      "metadata": {
        "id": "fgiO4UHUS2Aa"
      },
      "source": [
        "import altair as alt"
      ],
      "execution_count": null,
      "outputs": []
    },
    {
      "cell_type": "code",
      "metadata": {
        "id": "oeVA16reY6KM",
        "colab": {
          "base_uri": "https://localhost:8080/",
          "height": 368
        },
        "outputId": "6d998962-db32-4f84-d258-791a8d3ffdf7"
      },
      "source": [
        "alt.Chart(queens_pivoted).mark_bar(color='goldenrod').encode(\n",
        "    x=alt.X(\n",
        "        'Burial',\n",
        "        axis=alt.Axis( format='%', title='deaths')\n",
        "    ),\n",
        "    y=alt.Y(\n",
        "        'Cremation',\n",
        "        sort=alt.EncodingSortField(\n",
        "            field=\"disposition_description\"\n",
        "        ),\n",
        "        axis=alt.Axis(title='Burial Vs Cremation in Queens County, NYC')\n",
        "        )\n",
        "    )"
      ],
      "execution_count": null,
      "outputs": [
        {
          "output_type": "execute_result",
          "data": {
            "text/plain": [
              "alt.Chart(...)"
            ],
            "text/html": [
              "<!DOCTYPE html>\n",
              "<html>\n",
              "<head>\n",
              "  <style>\n",
              "    .vega-actions a {\n",
              "        margin-right: 12px;\n",
              "        color: #757575;\n",
              "        font-weight: normal;\n",
              "        font-size: 13px;\n",
              "    }\n",
              "    .error {\n",
              "        color: red;\n",
              "    }\n",
              "  </style>\n",
              "  <script type=\"text/javascript\" src=\"https://cdn.jsdelivr.net/npm//vega@5\"></script>\n",
              "  <script type=\"text/javascript\" src=\"https://cdn.jsdelivr.net/npm//vega-lite@3.4.0\"></script>\n",
              "  <script type=\"text/javascript\" src=\"https://cdn.jsdelivr.net/npm//vega-embed@4\"></script>\n",
              "</head>\n",
              "<body>\n",
              "  <div id=\"altair-viz\"></div>\n",
              "  <script>\n",
              "    (function(vegaEmbed) {\n",
              "      var spec = {\"config\": {\"view\": {\"width\": 400, \"height\": 300}, \"mark\": {\"tooltip\": null}}, \"data\": {\"name\": \"data-afe36da8e066fdb5b004cd4c46926308\"}, \"mark\": {\"type\": \"bar\", \"color\": \"goldenrod\"}, \"encoding\": {\"x\": {\"type\": \"quantitative\", \"axis\": {\"format\": \"%\", \"title\": \"deaths\"}, \"field\": \"Burial\"}, \"y\": {\"type\": \"quantitative\", \"axis\": {\"title\": \"Burial Vs Cremation in Queens County, NYC\"}, \"field\": \"Cremation\", \"sort\": {\"field\": \"disposition_description\"}}}, \"$schema\": \"https://vega.github.io/schema/vega-lite/v3.4.0.json\", \"datasets\": {\"data-afe36da8e066fdb5b004cd4c46926308\": [{\"year\": 2003, \"Burial\": 11543, \"Cremation\": 3006}, {\"year\": 2004, \"Burial\": 10979, \"Cremation\": 3002}, {\"year\": 2005, \"Burial\": 10942, \"Cremation\": 3060}, {\"year\": 2006, \"Burial\": 10560, \"Cremation\": 3104}, {\"year\": 2007, \"Burial\": 10227, \"Cremation\": 3197}, {\"year\": 2008, \"Burial\": 9740, \"Cremation\": 3377}, {\"year\": 2009, \"Burial\": 9392, \"Cremation\": 3586}, {\"year\": 2010, \"Burial\": 9249, \"Cremation\": 3722}, {\"year\": 2011, \"Burial\": 9095, \"Cremation\": 3869}, {\"year\": 2012, \"Burial\": 9407, \"Cremation\": 3911}, {\"year\": 2013, \"Burial\": 8957, \"Cremation\": 4119}, {\"year\": 2014, \"Burial\": 8914, \"Cremation\": 4383}, {\"year\": 2015, \"Burial\": 8572, \"Cremation\": 4521}, {\"year\": 2016, \"Burial\": 8710, \"Cremation\": 4931}, {\"year\": 2017, \"Burial\": 8568, \"Cremation\": 5163}]}};\n",
              "      var embedOpt = {\"mode\": \"vega-lite\"};\n",
              "\n",
              "      function showError(el, error){\n",
              "          el.innerHTML = ('<div class=\"error\" style=\"color:red;\">'\n",
              "                          + '<p>JavaScript Error: ' + error.message + '</p>'\n",
              "                          + \"<p>This usually means there's a typo in your chart specification. \"\n",
              "                          + \"See the javascript console for the full traceback.</p>\"\n",
              "                          + '</div>');\n",
              "          throw error;\n",
              "      }\n",
              "      const el = document.getElementById('altair-viz');\n",
              "      vegaEmbed(\"#altair-viz\", spec, embedOpt)\n",
              "        .catch(error => showError(el, error));\n",
              "    })(vegaEmbed);\n",
              "\n",
              "  </script>\n",
              "</body>\n",
              "</html>"
            ]
          },
          "metadata": {
            "tags": []
          },
          "execution_count": 241
        }
      ]
    },
    {
      "cell_type": "markdown",
      "metadata": {
        "id": "OR3lKexpfTNN"
      },
      "source": [
        "22. Creating a Graph-6\n",
        "\n",
        "\n",
        "---\n",
        "\n"
      ]
    },
    {
      "cell_type": "code",
      "metadata": {
        "id": "w1havhi5dgle",
        "colab": {
          "base_uri": "https://localhost:8080/",
          "height": 385
        },
        "outputId": "f6e5df85-b805-409f-c3fa-4f46df39a968"
      },
      "source": [
        "bars = alt.Chart(queens_pivoted).mark_bar(color='goldenrod').encode(\n",
        "  x=alt.X(\n",
        "      'Burial',\n",
        "      axis=alt.Axis(format='%', title='deaths')\n",
        "  ),\n",
        "  y=alt.Y(\n",
        "    'Cremation',\n",
        "    sort=alt.EncodingSortField(\n",
        "      field=\"deaths\",    # The field to use for the sort\n",
        "      order=\"descending\" # The order to sort in\n",
        "    ),\n",
        "    axis=alt.Axis(title='Burial Vs Cremation in Queens County, NYC')\n",
        "  )\n",
        ")\n",
        "\n",
        "text = bars.mark_text(\n",
        "    align='left',\n",
        "    baseline='middle',\n",
        "    dx=3  # Nudges text to right so it doesn't appear on top of the bar\n",
        ").encode(\n",
        "    text=alt.Text('Cremation', format=\".1%\")\n",
        ")\n",
        "\n",
        "(bars + text).properties(\n",
        "    title='Share of \"Housing New York\" Units that are New Construction, Queens Community Districts',\n",
        "    # width=800,\n",
        "    # height=600\n",
        ")\n"
      ],
      "execution_count": null,
      "outputs": [
        {
          "output_type": "execute_result",
          "data": {
            "text/plain": [
              "alt.LayerChart(...)"
            ],
            "text/html": [
              "<!DOCTYPE html>\n",
              "<html>\n",
              "<head>\n",
              "  <style>\n",
              "    .vega-actions a {\n",
              "        margin-right: 12px;\n",
              "        color: #757575;\n",
              "        font-weight: normal;\n",
              "        font-size: 13px;\n",
              "    }\n",
              "    .error {\n",
              "        color: red;\n",
              "    }\n",
              "  </style>\n",
              "  <script type=\"text/javascript\" src=\"https://cdn.jsdelivr.net/npm//vega@5\"></script>\n",
              "  <script type=\"text/javascript\" src=\"https://cdn.jsdelivr.net/npm//vega-lite@3.4.0\"></script>\n",
              "  <script type=\"text/javascript\" src=\"https://cdn.jsdelivr.net/npm//vega-embed@4\"></script>\n",
              "</head>\n",
              "<body>\n",
              "  <div id=\"altair-viz\"></div>\n",
              "  <script>\n",
              "    (function(vegaEmbed) {\n",
              "      var spec = {\"config\": {\"view\": {\"width\": 400, \"height\": 300}, \"mark\": {\"tooltip\": null}}, \"layer\": [{\"mark\": {\"type\": \"bar\", \"color\": \"goldenrod\"}, \"encoding\": {\"x\": {\"type\": \"quantitative\", \"axis\": {\"format\": \"%\", \"title\": \"deaths\"}, \"field\": \"Burial\"}, \"y\": {\"type\": \"quantitative\", \"axis\": {\"title\": \"Burial Vs Cremation in Queens County, NYC\"}, \"field\": \"Cremation\", \"sort\": {\"field\": \"deaths\", \"order\": \"descending\"}}}}, {\"mark\": {\"type\": \"text\", \"align\": \"left\", \"baseline\": \"middle\", \"dx\": 3}, \"encoding\": {\"text\": {\"type\": \"quantitative\", \"field\": \"Cremation\", \"format\": \".1%\"}, \"x\": {\"type\": \"quantitative\", \"axis\": {\"format\": \"%\", \"title\": \"deaths\"}, \"field\": \"Burial\"}, \"y\": {\"type\": \"quantitative\", \"axis\": {\"title\": \"Burial Vs Cremation in Queens County, NYC\"}, \"field\": \"Cremation\", \"sort\": {\"field\": \"deaths\", \"order\": \"descending\"}}}}], \"data\": {\"name\": \"data-afe36da8e066fdb5b004cd4c46926308\"}, \"title\": \"Share of \\\"Housing New York\\\" Units that are New Construction, Queens Community Districts\", \"$schema\": \"https://vega.github.io/schema/vega-lite/v3.4.0.json\", \"datasets\": {\"data-afe36da8e066fdb5b004cd4c46926308\": [{\"year\": 2003, \"Burial\": 11543, \"Cremation\": 3006}, {\"year\": 2004, \"Burial\": 10979, \"Cremation\": 3002}, {\"year\": 2005, \"Burial\": 10942, \"Cremation\": 3060}, {\"year\": 2006, \"Burial\": 10560, \"Cremation\": 3104}, {\"year\": 2007, \"Burial\": 10227, \"Cremation\": 3197}, {\"year\": 2008, \"Burial\": 9740, \"Cremation\": 3377}, {\"year\": 2009, \"Burial\": 9392, \"Cremation\": 3586}, {\"year\": 2010, \"Burial\": 9249, \"Cremation\": 3722}, {\"year\": 2011, \"Burial\": 9095, \"Cremation\": 3869}, {\"year\": 2012, \"Burial\": 9407, \"Cremation\": 3911}, {\"year\": 2013, \"Burial\": 8957, \"Cremation\": 4119}, {\"year\": 2014, \"Burial\": 8914, \"Cremation\": 4383}, {\"year\": 2015, \"Burial\": 8572, \"Cremation\": 4521}, {\"year\": 2016, \"Burial\": 8710, \"Cremation\": 4931}, {\"year\": 2017, \"Burial\": 8568, \"Cremation\": 5163}]}};\n",
              "      var embedOpt = {\"mode\": \"vega-lite\"};\n",
              "\n",
              "      function showError(el, error){\n",
              "          el.innerHTML = ('<div class=\"error\" style=\"color:red;\">'\n",
              "                          + '<p>JavaScript Error: ' + error.message + '</p>'\n",
              "                          + \"<p>This usually means there's a typo in your chart specification. \"\n",
              "                          + \"See the javascript console for the full traceback.</p>\"\n",
              "                          + '</div>');\n",
              "          throw error;\n",
              "      }\n",
              "      const el = document.getElementById('altair-viz');\n",
              "      vegaEmbed(\"#altair-viz\", spec, embedOpt)\n",
              "        .catch(error => showError(el, error));\n",
              "    })(vegaEmbed);\n",
              "\n",
              "  </script>\n",
              "</body>\n",
              "</html>"
            ]
          },
          "metadata": {
            "tags": []
          },
          "execution_count": 243
        }
      ]
    },
    {
      "cell_type": "markdown",
      "metadata": {
        "id": "s0zUJiP09Rky"
      },
      "source": [
        "Project Part-2 : I am here to explore all the counties in NewYork City considering all death rates.\n",
        "\n",
        "\n",
        "---\n",
        "\n"
      ]
    },
    {
      "cell_type": "markdown",
      "metadata": {
        "id": "-UL-fNSPgOlC"
      },
      "source": [
        "1. Pre-installed common libraries \n",
        "\n",
        "---\n",
        "\n",
        "\n",
        "\n",
        "The two main libraries used for data manipulation in python are numpy which provides the data type and functions for arrays, and pandas which builds on numpy and provides the the data type and functions for dataframes.\n",
        "\n",
        "\n",
        "\n",
        "---\n",
        "2. Import the dataset into the google collab\n",
        "\n",
        "\n",
        "\n",
        "---\n",
        "\n",
        "\n",
        "If you need to use a library that isn't already available in Colab you'll need to install it yourself. For example, someone has made a copy of R's janitor package for Python but we'll have to install it first. Colab has a nice feature that in the left side bar they have a bunch of helpful Code\n"
      ]
    },
    {
      "cell_type": "code",
      "metadata": {
        "id": "35euo7aV9TPc",
        "colab": {
          "base_uri": "https://localhost:8080/",
          "height": 419
        },
        "outputId": "bc2589b5-3a23-4f37-aada-c514ec3cc16c"
      },
      "source": [
        "import pandas as pd\n",
        "import numpy as np\n",
        "\n",
        "\n",
        "pd.read_csv('https://drive.google.com/uc?export=download&id=1ByQvRMFCcL6ZtynM7SxeczmtkpaaMVgN')"
      ],
      "execution_count": null,
      "outputs": [
        {
          "output_type": "execute_result",
          "data": {
            "text/html": [
              "<div>\n",
              "<style scoped>\n",
              "    .dataframe tbody tr th:only-of-type {\n",
              "        vertical-align: middle;\n",
              "    }\n",
              "\n",
              "    .dataframe tbody tr th {\n",
              "        vertical-align: top;\n",
              "    }\n",
              "\n",
              "    .dataframe thead th {\n",
              "        text-align: right;\n",
              "    }\n",
              "</style>\n",
              "<table border=\"1\" class=\"dataframe\">\n",
              "  <thead>\n",
              "    <tr style=\"text-align: right;\">\n",
              "      <th></th>\n",
              "      <th>Year</th>\n",
              "      <th>County Name</th>\n",
              "      <th>Region</th>\n",
              "      <th>Place of Death Code</th>\n",
              "      <th>Place of Death Description</th>\n",
              "      <th>Disposition Code</th>\n",
              "      <th>Disposition Description</th>\n",
              "      <th>Deaths</th>\n",
              "    </tr>\n",
              "  </thead>\n",
              "  <tbody>\n",
              "    <tr>\n",
              "      <th>0</th>\n",
              "      <td>2015</td>\n",
              "      <td>Albany</td>\n",
              "      <td>ROS</td>\n",
              "      <td>A</td>\n",
              "      <td>Hospital-DOA</td>\n",
              "      <td>1</td>\n",
              "      <td>Burial</td>\n",
              "      <td>6</td>\n",
              "    </tr>\n",
              "    <tr>\n",
              "      <th>1</th>\n",
              "      <td>2015</td>\n",
              "      <td>Albany</td>\n",
              "      <td>ROS</td>\n",
              "      <td>A</td>\n",
              "      <td>Hospital-DOA</td>\n",
              "      <td>2</td>\n",
              "      <td>Cremation</td>\n",
              "      <td>6</td>\n",
              "    </tr>\n",
              "    <tr>\n",
              "      <th>2</th>\n",
              "      <td>2015</td>\n",
              "      <td>Albany</td>\n",
              "      <td>ROS</td>\n",
              "      <td>B</td>\n",
              "      <td>Hospital0-ER</td>\n",
              "      <td>1</td>\n",
              "      <td>Burial</td>\n",
              "      <td>76</td>\n",
              "    </tr>\n",
              "    <tr>\n",
              "      <th>3</th>\n",
              "      <td>2015</td>\n",
              "      <td>Albany</td>\n",
              "      <td>ROS</td>\n",
              "      <td>B</td>\n",
              "      <td>Hospital0-ER</td>\n",
              "      <td>2</td>\n",
              "      <td>Cremation</td>\n",
              "      <td>75</td>\n",
              "    </tr>\n",
              "    <tr>\n",
              "      <th>4</th>\n",
              "      <td>2015</td>\n",
              "      <td>Albany</td>\n",
              "      <td>ROS</td>\n",
              "      <td>B</td>\n",
              "      <td>Hospital0-ER</td>\n",
              "      <td>4</td>\n",
              "      <td>Holding</td>\n",
              "      <td>3</td>\n",
              "    </tr>\n",
              "    <tr>\n",
              "      <th>...</th>\n",
              "      <td>...</td>\n",
              "      <td>...</td>\n",
              "      <td>...</td>\n",
              "      <td>...</td>\n",
              "      <td>...</td>\n",
              "      <td>...</td>\n",
              "      <td>...</td>\n",
              "      <td>...</td>\n",
              "    </tr>\n",
              "    <tr>\n",
              "      <th>28452</th>\n",
              "      <td>2017</td>\n",
              "      <td>Yates</td>\n",
              "      <td>ROS</td>\n",
              "      <td>F</td>\n",
              "      <td>Decedent Residence</td>\n",
              "      <td>6</td>\n",
              "      <td>Entombment</td>\n",
              "      <td>2</td>\n",
              "    </tr>\n",
              "    <tr>\n",
              "      <th>28453</th>\n",
              "      <td>2017</td>\n",
              "      <td>Yates</td>\n",
              "      <td>ROS</td>\n",
              "      <td>J</td>\n",
              "      <td>Hospice Facility</td>\n",
              "      <td>1</td>\n",
              "      <td>Burial</td>\n",
              "      <td>2</td>\n",
              "    </tr>\n",
              "    <tr>\n",
              "      <th>28454</th>\n",
              "      <td>2017</td>\n",
              "      <td>Yates</td>\n",
              "      <td>ROS</td>\n",
              "      <td>J</td>\n",
              "      <td>Hospice Facility</td>\n",
              "      <td>2</td>\n",
              "      <td>Cremation</td>\n",
              "      <td>3</td>\n",
              "    </tr>\n",
              "    <tr>\n",
              "      <th>28455</th>\n",
              "      <td>2017</td>\n",
              "      <td>Yates</td>\n",
              "      <td>ROS</td>\n",
              "      <td>P</td>\n",
              "      <td>Other Institution</td>\n",
              "      <td>1</td>\n",
              "      <td>Burial</td>\n",
              "      <td>1</td>\n",
              "    </tr>\n",
              "    <tr>\n",
              "      <th>28456</th>\n",
              "      <td>2017</td>\n",
              "      <td>Yates</td>\n",
              "      <td>ROS</td>\n",
              "      <td>P</td>\n",
              "      <td>Other Institution</td>\n",
              "      <td>2</td>\n",
              "      <td>Cremation</td>\n",
              "      <td>5</td>\n",
              "    </tr>\n",
              "  </tbody>\n",
              "</table>\n",
              "<p>28457 rows × 8 columns</p>\n",
              "</div>"
            ],
            "text/plain": [
              "       Year County Name  ... Disposition Description Deaths\n",
              "0      2015      Albany  ...                  Burial      6\n",
              "1      2015      Albany  ...               Cremation      6\n",
              "2      2015      Albany  ...                  Burial     76\n",
              "3      2015      Albany  ...               Cremation     75\n",
              "4      2015      Albany  ...                 Holding      3\n",
              "...     ...         ...  ...                     ...    ...\n",
              "28452  2017       Yates  ...              Entombment      2\n",
              "28453  2017       Yates  ...                  Burial      2\n",
              "28454  2017       Yates  ...               Cremation      3\n",
              "28455  2017       Yates  ...                  Burial      1\n",
              "28456  2017       Yates  ...               Cremation      5\n",
              "\n",
              "[28457 rows x 8 columns]"
            ]
          },
          "metadata": {
            "tags": []
          },
          "execution_count": 5
        }
      ]
    },
    {
      "cell_type": "markdown",
      "metadata": {
        "id": "V9L7_ScxgqBC"
      },
      "source": [
        "3. Import libraries called 'Janitor'\n",
        "\n",
        "\n",
        "---\n",
        "\n",
        "\n",
        "If you need to use a library that isn't already available in Colab you'll need to install it yourself. For example, someone has made a copy of R's janitor package for Python but we'll have to install it first. Colab has a nice feature that in the left side bar they have a bunch of helpful Code"
      ]
    },
    {
      "cell_type": "code",
      "metadata": {
        "id": "a5LB8z1J9pBS",
        "colab": {
          "base_uri": "https://localhost:8080/",
          "height": 204
        },
        "outputId": "343d3aa8-fef7-407c-d718-8f00472e87d4"
      },
      "source": [
        "!pip install -q pyjanitor\n",
        "import janitor\n",
        "Vital_Statistics_raw = pd.read_csv('https://drive.google.com/uc?export=download&id=1ByQvRMFCcL6ZtynM7SxeczmtkpaaMVgN')\n",
        "Vital_Statistics_raw = janitor.clean_names(Vital_Statistics_raw)\n",
        "Vital_Statistics_raw.head()"
      ],
      "execution_count": null,
      "outputs": [
        {
          "output_type": "execute_result",
          "data": {
            "text/html": [
              "<div>\n",
              "<style scoped>\n",
              "    .dataframe tbody tr th:only-of-type {\n",
              "        vertical-align: middle;\n",
              "    }\n",
              "\n",
              "    .dataframe tbody tr th {\n",
              "        vertical-align: top;\n",
              "    }\n",
              "\n",
              "    .dataframe thead th {\n",
              "        text-align: right;\n",
              "    }\n",
              "</style>\n",
              "<table border=\"1\" class=\"dataframe\">\n",
              "  <thead>\n",
              "    <tr style=\"text-align: right;\">\n",
              "      <th></th>\n",
              "      <th>year</th>\n",
              "      <th>county_name</th>\n",
              "      <th>region</th>\n",
              "      <th>place_of_death_code</th>\n",
              "      <th>place_of_death_description</th>\n",
              "      <th>disposition_code</th>\n",
              "      <th>disposition_description</th>\n",
              "      <th>deaths</th>\n",
              "    </tr>\n",
              "  </thead>\n",
              "  <tbody>\n",
              "    <tr>\n",
              "      <th>0</th>\n",
              "      <td>2015</td>\n",
              "      <td>Albany</td>\n",
              "      <td>ROS</td>\n",
              "      <td>A</td>\n",
              "      <td>Hospital-DOA</td>\n",
              "      <td>1</td>\n",
              "      <td>Burial</td>\n",
              "      <td>6</td>\n",
              "    </tr>\n",
              "    <tr>\n",
              "      <th>1</th>\n",
              "      <td>2015</td>\n",
              "      <td>Albany</td>\n",
              "      <td>ROS</td>\n",
              "      <td>A</td>\n",
              "      <td>Hospital-DOA</td>\n",
              "      <td>2</td>\n",
              "      <td>Cremation</td>\n",
              "      <td>6</td>\n",
              "    </tr>\n",
              "    <tr>\n",
              "      <th>2</th>\n",
              "      <td>2015</td>\n",
              "      <td>Albany</td>\n",
              "      <td>ROS</td>\n",
              "      <td>B</td>\n",
              "      <td>Hospital0-ER</td>\n",
              "      <td>1</td>\n",
              "      <td>Burial</td>\n",
              "      <td>76</td>\n",
              "    </tr>\n",
              "    <tr>\n",
              "      <th>3</th>\n",
              "      <td>2015</td>\n",
              "      <td>Albany</td>\n",
              "      <td>ROS</td>\n",
              "      <td>B</td>\n",
              "      <td>Hospital0-ER</td>\n",
              "      <td>2</td>\n",
              "      <td>Cremation</td>\n",
              "      <td>75</td>\n",
              "    </tr>\n",
              "    <tr>\n",
              "      <th>4</th>\n",
              "      <td>2015</td>\n",
              "      <td>Albany</td>\n",
              "      <td>ROS</td>\n",
              "      <td>B</td>\n",
              "      <td>Hospital0-ER</td>\n",
              "      <td>4</td>\n",
              "      <td>Holding</td>\n",
              "      <td>3</td>\n",
              "    </tr>\n",
              "  </tbody>\n",
              "</table>\n",
              "</div>"
            ],
            "text/plain": [
              "   year county_name region  ... disposition_code disposition_description  deaths\n",
              "0  2015      Albany    ROS  ...                1                  Burial       6\n",
              "1  2015      Albany    ROS  ...                2               Cremation       6\n",
              "2  2015      Albany    ROS  ...                1                  Burial      76\n",
              "3  2015      Albany    ROS  ...                2               Cremation      75\n",
              "4  2015      Albany    ROS  ...                4                 Holding       3\n",
              "\n",
              "[5 rows x 8 columns]"
            ]
          },
          "metadata": {
            "tags": []
          },
          "execution_count": 6
        }
      ]
    },
    {
      "cell_type": "markdown",
      "metadata": {
        "id": "xS5Dv7k0gwsK"
      },
      "source": [
        "4. Import dataset and clean names of the dataset and Importing CSV files\n",
        "\n",
        "\n",
        "\n",
        "---\n",
        "\n",
        "Now we can import our dataset with the read_csv function from pandas, giving it the URL for our CSV file, and assigning the resulting dataframe to Vital_Statistics.raw. We can then overwrite the Vital_Statistics_raw with a version that has all the column names reformatted by using the clean_names function from janitor.\n",
        "\n",
        "\n",
        "\n",
        "---\n",
        "5. Previewing dataframes\n",
        "\n",
        "\n",
        "\n",
        "---\n",
        "\n",
        "Now we have a dataframe of our pluto data called Vital_Statistics_raw. In python objects that you create like this dataframe have functions associated with them called \"methods\" and you can use these like dataframe_name.method_name()\n"
      ]
    },
    {
      "cell_type": "code",
      "metadata": {
        "id": "QenwkUf_9_FJ",
        "colab": {
          "base_uri": "https://localhost:8080/",
          "height": 238
        },
        "outputId": "e5961efa-706b-4e94-fec4-355bc88a9824"
      },
      "source": [
        "Vital_Statistics_raw.info()"
      ],
      "execution_count": null,
      "outputs": [
        {
          "output_type": "stream",
          "text": [
            "<class 'pandas.core.frame.DataFrame'>\n",
            "RangeIndex: 28457 entries, 0 to 28456\n",
            "Data columns (total 8 columns):\n",
            "year                          28457 non-null int64\n",
            "county_name                   28457 non-null object\n",
            "region                        28457 non-null object\n",
            "place_of_death_code           28457 non-null object\n",
            "place_of_death_description    28457 non-null object\n",
            "disposition_code              28457 non-null int64\n",
            "disposition_description       28457 non-null object\n",
            "deaths                        28457 non-null int64\n",
            "dtypes: int64(3), object(5)\n",
            "memory usage: 1.7+ MB\n"
          ],
          "name": "stdout"
        }
      ]
    },
    {
      "cell_type": "markdown",
      "metadata": {
        "id": "-BW6gkqUhHVT"
      },
      "source": [
        "6. Selecting/dropping/renaming columns\n",
        "\n",
        "\n",
        "\n",
        "---\n",
        "\n",
        "We can select a subset of the columns using a few different methods. These are equivilant to dplyr's select function in R."
      ]
    },
    {
      "cell_type": "code",
      "metadata": {
        "id": "9C0KpeGS-K0-",
        "colab": {
          "base_uri": "https://localhost:8080/",
          "height": 204
        },
        "outputId": "ae12fdc6-827b-47ec-8b31-fc60647718d9"
      },
      "source": [
        "Vital_Statistics_slim = Vital_Statistics_raw.loc[:,['year', 'county_name', 'region', 'place_of_death_code', 'place_of_death_description', 'disposition_code', 'disposition_description', 'deaths']]\n",
        "Vital_Statistics_slim = Vital_Statistics_slim.drop(['place_of_death_code', 'disposition_code', 'place_of_death_description'], axis=1)\n",
        "Vital_Statistics_slim = Vital_Statistics_slim.rename(columns={'disposition_description':'B-C'})\n",
        "Vital_Statistics_slim = Vital_Statistics_slim.rename(columns={'county_name':'county'})\n",
        "Vital_Statistics_slim.head()"
      ],
      "execution_count": null,
      "outputs": [
        {
          "output_type": "execute_result",
          "data": {
            "text/html": [
              "<div>\n",
              "<style scoped>\n",
              "    .dataframe tbody tr th:only-of-type {\n",
              "        vertical-align: middle;\n",
              "    }\n",
              "\n",
              "    .dataframe tbody tr th {\n",
              "        vertical-align: top;\n",
              "    }\n",
              "\n",
              "    .dataframe thead th {\n",
              "        text-align: right;\n",
              "    }\n",
              "</style>\n",
              "<table border=\"1\" class=\"dataframe\">\n",
              "  <thead>\n",
              "    <tr style=\"text-align: right;\">\n",
              "      <th></th>\n",
              "      <th>year</th>\n",
              "      <th>county</th>\n",
              "      <th>region</th>\n",
              "      <th>B-C</th>\n",
              "      <th>deaths</th>\n",
              "    </tr>\n",
              "  </thead>\n",
              "  <tbody>\n",
              "    <tr>\n",
              "      <th>0</th>\n",
              "      <td>2015</td>\n",
              "      <td>Albany</td>\n",
              "      <td>ROS</td>\n",
              "      <td>Burial</td>\n",
              "      <td>6</td>\n",
              "    </tr>\n",
              "    <tr>\n",
              "      <th>1</th>\n",
              "      <td>2015</td>\n",
              "      <td>Albany</td>\n",
              "      <td>ROS</td>\n",
              "      <td>Cremation</td>\n",
              "      <td>6</td>\n",
              "    </tr>\n",
              "    <tr>\n",
              "      <th>2</th>\n",
              "      <td>2015</td>\n",
              "      <td>Albany</td>\n",
              "      <td>ROS</td>\n",
              "      <td>Burial</td>\n",
              "      <td>76</td>\n",
              "    </tr>\n",
              "    <tr>\n",
              "      <th>3</th>\n",
              "      <td>2015</td>\n",
              "      <td>Albany</td>\n",
              "      <td>ROS</td>\n",
              "      <td>Cremation</td>\n",
              "      <td>75</td>\n",
              "    </tr>\n",
              "    <tr>\n",
              "      <th>4</th>\n",
              "      <td>2015</td>\n",
              "      <td>Albany</td>\n",
              "      <td>ROS</td>\n",
              "      <td>Holding</td>\n",
              "      <td>3</td>\n",
              "    </tr>\n",
              "  </tbody>\n",
              "</table>\n",
              "</div>"
            ],
            "text/plain": [
              "   year  county region        B-C  deaths\n",
              "0  2015  Albany    ROS     Burial       6\n",
              "1  2015  Albany    ROS  Cremation       6\n",
              "2  2015  Albany    ROS     Burial      76\n",
              "3  2015  Albany    ROS  Cremation      75\n",
              "4  2015  Albany    ROS    Holding       3"
            ]
          },
          "metadata": {
            "tags": []
          },
          "execution_count": 8
        }
      ]
    },
    {
      "cell_type": "markdown",
      "metadata": {
        "id": "-D1Aq4DyhLlZ"
      },
      "source": [
        "7. Sorting dataframes\n",
        "\n",
        "\n",
        "\n",
        "---\n",
        "\n",
        "Now we can sort the rows in our dataframe to see the 5 buildings with the most total units. This is similar to dplyr's arrange function in R. In this case we just want to see it, but don't need to make a permant change to the dataframe so we won't assign the result to anything but just print the head at the end."
      ]
    },
    {
      "cell_type": "code",
      "metadata": {
        "id": "ArZyTuXYBHwP",
        "colab": {
          "base_uri": "https://localhost:8080/",
          "height": 204
        },
        "outputId": "872b5bc2-eeba-4270-a19c-61bc32167a9d"
      },
      "source": [
        "NYC_bldgs = Vital_Statistics_raw.query(\"region == 'NYC'\")\n",
        "\n",
        "NYC_bldgs.head()"
      ],
      "execution_count": null,
      "outputs": [
        {
          "output_type": "execute_result",
          "data": {
            "text/html": [
              "<div>\n",
              "<style scoped>\n",
              "    .dataframe tbody tr th:only-of-type {\n",
              "        vertical-align: middle;\n",
              "    }\n",
              "\n",
              "    .dataframe tbody tr th {\n",
              "        vertical-align: top;\n",
              "    }\n",
              "\n",
              "    .dataframe thead th {\n",
              "        text-align: right;\n",
              "    }\n",
              "</style>\n",
              "<table border=\"1\" class=\"dataframe\">\n",
              "  <thead>\n",
              "    <tr style=\"text-align: right;\">\n",
              "      <th></th>\n",
              "      <th>year</th>\n",
              "      <th>county_name</th>\n",
              "      <th>region</th>\n",
              "      <th>place_of_death_code</th>\n",
              "      <th>place_of_death_description</th>\n",
              "      <th>disposition_code</th>\n",
              "      <th>disposition_description</th>\n",
              "      <th>deaths</th>\n",
              "    </tr>\n",
              "  </thead>\n",
              "  <tbody>\n",
              "    <tr>\n",
              "      <th>67</th>\n",
              "      <td>2015</td>\n",
              "      <td>Bronx</td>\n",
              "      <td>NYC</td>\n",
              "      <td>A</td>\n",
              "      <td>Hospital-DOA</td>\n",
              "      <td>1</td>\n",
              "      <td>Burial</td>\n",
              "      <td>114</td>\n",
              "    </tr>\n",
              "    <tr>\n",
              "      <th>68</th>\n",
              "      <td>2015</td>\n",
              "      <td>Bronx</td>\n",
              "      <td>NYC</td>\n",
              "      <td>A</td>\n",
              "      <td>Hospital-DOA</td>\n",
              "      <td>2</td>\n",
              "      <td>Cremation</td>\n",
              "      <td>67</td>\n",
              "    </tr>\n",
              "    <tr>\n",
              "      <th>69</th>\n",
              "      <td>2015</td>\n",
              "      <td>Bronx</td>\n",
              "      <td>NYC</td>\n",
              "      <td>B</td>\n",
              "      <td>Hospital0-ER</td>\n",
              "      <td>1</td>\n",
              "      <td>Burial</td>\n",
              "      <td>504</td>\n",
              "    </tr>\n",
              "    <tr>\n",
              "      <th>70</th>\n",
              "      <td>2015</td>\n",
              "      <td>Bronx</td>\n",
              "      <td>NYC</td>\n",
              "      <td>B</td>\n",
              "      <td>Hospital0-ER</td>\n",
              "      <td>2</td>\n",
              "      <td>Cremation</td>\n",
              "      <td>378</td>\n",
              "    </tr>\n",
              "    <tr>\n",
              "      <th>71</th>\n",
              "      <td>2015</td>\n",
              "      <td>Bronx</td>\n",
              "      <td>NYC</td>\n",
              "      <td>B</td>\n",
              "      <td>Hospital0-ER</td>\n",
              "      <td>3</td>\n",
              "      <td>Removal from State (Transit)</td>\n",
              "      <td>9</td>\n",
              "    </tr>\n",
              "  </tbody>\n",
              "</table>\n",
              "</div>"
            ],
            "text/plain": [
              "    year county_name  ...       disposition_description deaths\n",
              "67  2015       Bronx  ...                        Burial    114\n",
              "68  2015       Bronx  ...                     Cremation     67\n",
              "69  2015       Bronx  ...                        Burial    504\n",
              "70  2015       Bronx  ...                     Cremation    378\n",
              "71  2015       Bronx  ...  Removal from State (Transit)      9\n",
              "\n",
              "[5 rows x 8 columns]"
            ]
          },
          "metadata": {
            "tags": []
          },
          "execution_count": 9
        }
      ]
    },
    {
      "cell_type": "markdown",
      "metadata": {
        "id": "RKFVYtGThZO5"
      },
      "source": [
        "8. Selecting/dropping/renaming columns\n",
        "\n",
        "\n",
        "\n",
        "---\n",
        "\n",
        "We can select a subset of the columns using a few different methods. These are equivilant to dplyr's select function in R."
      ]
    },
    {
      "cell_type": "code",
      "metadata": {
        "id": "ztp_77WBDT60",
        "colab": {
          "base_uri": "https://localhost:8080/",
          "height": 204
        },
        "outputId": "3673356b-418f-4fc3-84df-a152bc3f01d0"
      },
      "source": [
        "Vital_Statistics_slim = Vital_Statistics_raw.loc[:,['year', 'county_name', 'region', 'place_of_death_code', 'place_of_death_description', 'disposition_code', 'disposition_description', 'deaths']]\n",
        "Vital_Statistics_slim = Vital_Statistics_raw.query(\"region == 'NYC'\")\n",
        "Vital_Statistics_slim = Vital_Statistics_slim.drop(['place_of_death_code', 'disposition_code', 'place_of_death_description'], axis=1)\n",
        "Vital_Statistics_slim = Vital_Statistics_slim.rename(columns={'disposition_description':'B-C'})\n",
        "Vital_Statistics_slim = Vital_Statistics_slim.rename(columns={'county_name':'county'})\n",
        "Vital_Statistics_slim.head()"
      ],
      "execution_count": null,
      "outputs": [
        {
          "output_type": "execute_result",
          "data": {
            "text/html": [
              "<div>\n",
              "<style scoped>\n",
              "    .dataframe tbody tr th:only-of-type {\n",
              "        vertical-align: middle;\n",
              "    }\n",
              "\n",
              "    .dataframe tbody tr th {\n",
              "        vertical-align: top;\n",
              "    }\n",
              "\n",
              "    .dataframe thead th {\n",
              "        text-align: right;\n",
              "    }\n",
              "</style>\n",
              "<table border=\"1\" class=\"dataframe\">\n",
              "  <thead>\n",
              "    <tr style=\"text-align: right;\">\n",
              "      <th></th>\n",
              "      <th>year</th>\n",
              "      <th>county</th>\n",
              "      <th>region</th>\n",
              "      <th>B-C</th>\n",
              "      <th>deaths</th>\n",
              "    </tr>\n",
              "  </thead>\n",
              "  <tbody>\n",
              "    <tr>\n",
              "      <th>67</th>\n",
              "      <td>2015</td>\n",
              "      <td>Bronx</td>\n",
              "      <td>NYC</td>\n",
              "      <td>Burial</td>\n",
              "      <td>114</td>\n",
              "    </tr>\n",
              "    <tr>\n",
              "      <th>68</th>\n",
              "      <td>2015</td>\n",
              "      <td>Bronx</td>\n",
              "      <td>NYC</td>\n",
              "      <td>Cremation</td>\n",
              "      <td>67</td>\n",
              "    </tr>\n",
              "    <tr>\n",
              "      <th>69</th>\n",
              "      <td>2015</td>\n",
              "      <td>Bronx</td>\n",
              "      <td>NYC</td>\n",
              "      <td>Burial</td>\n",
              "      <td>504</td>\n",
              "    </tr>\n",
              "    <tr>\n",
              "      <th>70</th>\n",
              "      <td>2015</td>\n",
              "      <td>Bronx</td>\n",
              "      <td>NYC</td>\n",
              "      <td>Cremation</td>\n",
              "      <td>378</td>\n",
              "    </tr>\n",
              "    <tr>\n",
              "      <th>71</th>\n",
              "      <td>2015</td>\n",
              "      <td>Bronx</td>\n",
              "      <td>NYC</td>\n",
              "      <td>Removal from State (Transit)</td>\n",
              "      <td>9</td>\n",
              "    </tr>\n",
              "  </tbody>\n",
              "</table>\n",
              "</div>"
            ],
            "text/plain": [
              "    year county region                           B-C  deaths\n",
              "67  2015  Bronx    NYC                        Burial     114\n",
              "68  2015  Bronx    NYC                     Cremation      67\n",
              "69  2015  Bronx    NYC                        Burial     504\n",
              "70  2015  Bronx    NYC                     Cremation     378\n",
              "71  2015  Bronx    NYC  Removal from State (Transit)       9"
            ]
          },
          "metadata": {
            "tags": []
          },
          "execution_count": 10
        }
      ]
    },
    {
      "cell_type": "markdown",
      "metadata": {
        "id": "dh6nqwh-hmVY"
      },
      "source": [
        "9. Sorting dataframes\n",
        "\n",
        "\n",
        "\n",
        "---\n",
        "\n",
        "Now we can sort the rows in our dataframe to see the 5 buildings with the most total units. This is similar to dplyr's arrange function in R. In this case we just want to see it, but don't need to make a permant change to the dataframe so we won't assign the result to anything but just print the head at the end."
      ]
    },
    {
      "cell_type": "code",
      "metadata": {
        "id": "qBt4c3BmLgE6",
        "colab": {
          "base_uri": "https://localhost:8080/",
          "height": 419
        },
        "outputId": "6e12643e-db99-4943-f7f9-c13d8a53bae8"
      },
      "source": [
        "Vital_Statistics_slim.sort_values('deaths', ascending=False).head()\n",
        "vital_new = Vital_Statistics_slim.clean_names()\n",
        "vital_new"
      ],
      "execution_count": null,
      "outputs": [
        {
          "output_type": "execute_result",
          "data": {
            "text/html": [
              "<div>\n",
              "<style scoped>\n",
              "    .dataframe tbody tr th:only-of-type {\n",
              "        vertical-align: middle;\n",
              "    }\n",
              "\n",
              "    .dataframe tbody tr th {\n",
              "        vertical-align: top;\n",
              "    }\n",
              "\n",
              "    .dataframe thead th {\n",
              "        text-align: right;\n",
              "    }\n",
              "</style>\n",
              "<table border=\"1\" class=\"dataframe\">\n",
              "  <thead>\n",
              "    <tr style=\"text-align: right;\">\n",
              "      <th></th>\n",
              "      <th>year</th>\n",
              "      <th>county</th>\n",
              "      <th>region</th>\n",
              "      <th>b_c</th>\n",
              "      <th>deaths</th>\n",
              "    </tr>\n",
              "  </thead>\n",
              "  <tbody>\n",
              "    <tr>\n",
              "      <th>67</th>\n",
              "      <td>2015</td>\n",
              "      <td>Bronx</td>\n",
              "      <td>NYC</td>\n",
              "      <td>Burial</td>\n",
              "      <td>114</td>\n",
              "    </tr>\n",
              "    <tr>\n",
              "      <th>68</th>\n",
              "      <td>2015</td>\n",
              "      <td>Bronx</td>\n",
              "      <td>NYC</td>\n",
              "      <td>Cremation</td>\n",
              "      <td>67</td>\n",
              "    </tr>\n",
              "    <tr>\n",
              "      <th>69</th>\n",
              "      <td>2015</td>\n",
              "      <td>Bronx</td>\n",
              "      <td>NYC</td>\n",
              "      <td>Burial</td>\n",
              "      <td>504</td>\n",
              "    </tr>\n",
              "    <tr>\n",
              "      <th>70</th>\n",
              "      <td>2015</td>\n",
              "      <td>Bronx</td>\n",
              "      <td>NYC</td>\n",
              "      <td>Cremation</td>\n",
              "      <td>378</td>\n",
              "    </tr>\n",
              "    <tr>\n",
              "      <th>71</th>\n",
              "      <td>2015</td>\n",
              "      <td>Bronx</td>\n",
              "      <td>NYC</td>\n",
              "      <td>Removal from State (Transit)</td>\n",
              "      <td>9</td>\n",
              "    </tr>\n",
              "    <tr>\n",
              "      <th>...</th>\n",
              "      <td>...</td>\n",
              "      <td>...</td>\n",
              "      <td>...</td>\n",
              "      <td>...</td>\n",
              "      <td>...</td>\n",
              "    </tr>\n",
              "    <tr>\n",
              "      <th>27978</th>\n",
              "      <td>2017</td>\n",
              "      <td>Richmond</td>\n",
              "      <td>NYC</td>\n",
              "      <td>Anatomical Gift</td>\n",
              "      <td>2</td>\n",
              "    </tr>\n",
              "    <tr>\n",
              "      <th>27979</th>\n",
              "      <td>2017</td>\n",
              "      <td>Richmond</td>\n",
              "      <td>NYC</td>\n",
              "      <td>Burial</td>\n",
              "      <td>32</td>\n",
              "    </tr>\n",
              "    <tr>\n",
              "      <th>27980</th>\n",
              "      <td>2017</td>\n",
              "      <td>Richmond</td>\n",
              "      <td>NYC</td>\n",
              "      <td>Cremation</td>\n",
              "      <td>26</td>\n",
              "    </tr>\n",
              "    <tr>\n",
              "      <th>27981</th>\n",
              "      <td>2017</td>\n",
              "      <td>Richmond</td>\n",
              "      <td>NYC</td>\n",
              "      <td>Removal from State (Transit)</td>\n",
              "      <td>11</td>\n",
              "    </tr>\n",
              "    <tr>\n",
              "      <th>27982</th>\n",
              "      <td>2017</td>\n",
              "      <td>Richmond</td>\n",
              "      <td>NYC</td>\n",
              "      <td>Entombment</td>\n",
              "      <td>1</td>\n",
              "    </tr>\n",
              "  </tbody>\n",
              "</table>\n",
              "<p>2423 rows × 5 columns</p>\n",
              "</div>"
            ],
            "text/plain": [
              "       year    county region                           b_c  deaths\n",
              "67     2015     Bronx    NYC                        Burial     114\n",
              "68     2015     Bronx    NYC                     Cremation      67\n",
              "69     2015     Bronx    NYC                        Burial     504\n",
              "70     2015     Bronx    NYC                     Cremation     378\n",
              "71     2015     Bronx    NYC  Removal from State (Transit)       9\n",
              "...     ...       ...    ...                           ...     ...\n",
              "27978  2017  Richmond    NYC               Anatomical Gift       2\n",
              "27979  2017  Richmond    NYC                        Burial      32\n",
              "27980  2017  Richmond    NYC                     Cremation      26\n",
              "27981  2017  Richmond    NYC  Removal from State (Transit)      11\n",
              "27982  2017  Richmond    NYC                    Entombment       1\n",
              "\n",
              "[2423 rows x 5 columns]"
            ]
          },
          "metadata": {
            "tags": []
          },
          "execution_count": 11
        }
      ]
    },
    {
      "cell_type": "markdown",
      "metadata": {
        "id": "9PKhm9nyhoUx"
      },
      "source": [
        "10. Filtering rows with query\n",
        "\n",
        "\n",
        "\n",
        "---\n",
        "\n",
        "\n",
        "We can use the query method on our dataframe to filter to only the buildings in Queens. This is similar to the dplyr's filter function in R."
      ]
    },
    {
      "cell_type": "code",
      "metadata": {
        "id": "prBNUBG_LpxP",
        "colab": {
          "base_uri": "https://localhost:8080/",
          "height": 204
        },
        "outputId": "66d80c5c-0b42-41a7-ca2f-ff2d18998aca"
      },
      "source": [
        "queens_nyc = (\n",
        "    vital_new\n",
        "      .query(\"county == 'Queens' or  county == 'Bronx' or county == 'Kings' or county == 'Manhattan' or county == 'Richmond' \")\n",
        "      .query(\"region == 'NYC'\")\n",
        "      .query(\"b_c == 'Cremation' or b_c == 'Burial' \")\n",
        "      .groupby(['b_c','year','deaths','county'])\n",
        "      .sum()\n",
        "      .reset_index()\n",
        "      .sort_values('deaths', ascending=False)\n",
        ")\n",
        "\n",
        "queens_nyc.head()"
      ],
      "execution_count": null,
      "outputs": [
        {
          "output_type": "execute_result",
          "data": {
            "text/html": [
              "<div>\n",
              "<style scoped>\n",
              "    .dataframe tbody tr th:only-of-type {\n",
              "        vertical-align: middle;\n",
              "    }\n",
              "\n",
              "    .dataframe tbody tr th {\n",
              "        vertical-align: top;\n",
              "    }\n",
              "\n",
              "    .dataframe thead th {\n",
              "        text-align: right;\n",
              "    }\n",
              "</style>\n",
              "<table border=\"1\" class=\"dataframe\">\n",
              "  <thead>\n",
              "    <tr style=\"text-align: right;\">\n",
              "      <th></th>\n",
              "      <th>b_c</th>\n",
              "      <th>year</th>\n",
              "      <th>deaths</th>\n",
              "      <th>county</th>\n",
              "      <th>region</th>\n",
              "    </tr>\n",
              "  </thead>\n",
              "  <tbody>\n",
              "    <tr>\n",
              "      <th>48</th>\n",
              "      <td>Burial</td>\n",
              "      <td>2003</td>\n",
              "      <td>8223</td>\n",
              "      <td>Kings</td>\n",
              "      <td>NYC</td>\n",
              "    </tr>\n",
              "    <tr>\n",
              "      <th>98</th>\n",
              "      <td>Burial</td>\n",
              "      <td>2004</td>\n",
              "      <td>8037</td>\n",
              "      <td>Kings</td>\n",
              "      <td>NYC</td>\n",
              "    </tr>\n",
              "    <tr>\n",
              "      <th>147</th>\n",
              "      <td>Burial</td>\n",
              "      <td>2005</td>\n",
              "      <td>7714</td>\n",
              "      <td>Kings</td>\n",
              "      <td>NYC</td>\n",
              "    </tr>\n",
              "    <tr>\n",
              "      <th>245</th>\n",
              "      <td>Burial</td>\n",
              "      <td>2007</td>\n",
              "      <td>7142</td>\n",
              "      <td>Kings</td>\n",
              "      <td>NYC</td>\n",
              "    </tr>\n",
              "    <tr>\n",
              "      <th>195</th>\n",
              "      <td>Burial</td>\n",
              "      <td>2006</td>\n",
              "      <td>6978</td>\n",
              "      <td>Kings</td>\n",
              "      <td>NYC</td>\n",
              "    </tr>\n",
              "  </tbody>\n",
              "</table>\n",
              "</div>"
            ],
            "text/plain": [
              "        b_c  year  deaths county region\n",
              "48   Burial  2003    8223  Kings    NYC\n",
              "98   Burial  2004    8037  Kings    NYC\n",
              "147  Burial  2005    7714  Kings    NYC\n",
              "245  Burial  2007    7142  Kings    NYC\n",
              "195  Burial  2006    6978  Kings    NYC"
            ]
          },
          "metadata": {
            "tags": []
          },
          "execution_count": 12
        }
      ]
    },
    {
      "cell_type": "code",
      "metadata": {
        "id": "m3S_STvTpsWt",
        "colab": {
          "base_uri": "https://localhost:8080/",
          "height": 204
        },
        "outputId": "26e3128a-e847-463e-e353-1eb4159de41f"
      },
      "source": [
        "queens_nyc_slim = (\n",
        "    queens_nyc\n",
        "      .query(\"county == 'Queens' or  county == 'Bronx' or county == 'Kings' or county == 'Manhattan' or county == 'Richmond' \")\n",
        "      .query(\"b_c == 'Cremation' or b_c == 'Burial' \")\n",
        "      .groupby(['b_c','year','deaths','county'])\n",
        "      .sum()\n",
        "      .reset_index()\n",
        "      .sort_values('deaths', ascending=False)\n",
        "    )\n",
        "queens_nyc_slim.head()"
      ],
      "execution_count": null,
      "outputs": [
        {
          "output_type": "execute_result",
          "data": {
            "text/html": [
              "<div>\n",
              "<style scoped>\n",
              "    .dataframe tbody tr th:only-of-type {\n",
              "        vertical-align: middle;\n",
              "    }\n",
              "\n",
              "    .dataframe tbody tr th {\n",
              "        vertical-align: top;\n",
              "    }\n",
              "\n",
              "    .dataframe thead th {\n",
              "        text-align: right;\n",
              "    }\n",
              "</style>\n",
              "<table border=\"1\" class=\"dataframe\">\n",
              "  <thead>\n",
              "    <tr style=\"text-align: right;\">\n",
              "      <th></th>\n",
              "      <th>b_c</th>\n",
              "      <th>year</th>\n",
              "      <th>deaths</th>\n",
              "      <th>county</th>\n",
              "      <th>region</th>\n",
              "    </tr>\n",
              "  </thead>\n",
              "  <tbody>\n",
              "    <tr>\n",
              "      <th>48</th>\n",
              "      <td>Burial</td>\n",
              "      <td>2003</td>\n",
              "      <td>8223</td>\n",
              "      <td>Kings</td>\n",
              "      <td>NYC</td>\n",
              "    </tr>\n",
              "    <tr>\n",
              "      <th>98</th>\n",
              "      <td>Burial</td>\n",
              "      <td>2004</td>\n",
              "      <td>8037</td>\n",
              "      <td>Kings</td>\n",
              "      <td>NYC</td>\n",
              "    </tr>\n",
              "    <tr>\n",
              "      <th>147</th>\n",
              "      <td>Burial</td>\n",
              "      <td>2005</td>\n",
              "      <td>7714</td>\n",
              "      <td>Kings</td>\n",
              "      <td>NYC</td>\n",
              "    </tr>\n",
              "    <tr>\n",
              "      <th>245</th>\n",
              "      <td>Burial</td>\n",
              "      <td>2007</td>\n",
              "      <td>7142</td>\n",
              "      <td>Kings</td>\n",
              "      <td>NYC</td>\n",
              "    </tr>\n",
              "    <tr>\n",
              "      <th>195</th>\n",
              "      <td>Burial</td>\n",
              "      <td>2006</td>\n",
              "      <td>6978</td>\n",
              "      <td>Kings</td>\n",
              "      <td>NYC</td>\n",
              "    </tr>\n",
              "  </tbody>\n",
              "</table>\n",
              "</div>"
            ],
            "text/plain": [
              "        b_c  year  deaths county region\n",
              "48   Burial  2003    8223  Kings    NYC\n",
              "98   Burial  2004    8037  Kings    NYC\n",
              "147  Burial  2005    7714  Kings    NYC\n",
              "245  Burial  2007    7142  Kings    NYC\n",
              "195  Burial  2006    6978  Kings    NYC"
            ]
          },
          "metadata": {
            "tags": []
          },
          "execution_count": 13
        }
      ]
    },
    {
      "cell_type": "markdown",
      "metadata": {
        "id": "xd04F9e7iEjU"
      },
      "source": [
        "11. Creating new columns\n",
        "\n",
        "\n",
        "\n",
        "---\n",
        "\n",
        "\n",
        "To create new columns in our dataframe we can use the method assign. This works similarly to dplyr's mutate function in R. Note that, unlike mutate, we need to specify the columns with either dataframe_name.column_name or dataframe_name['column_name']. Similar to in R, to use the dataframe_name.column_name style your column names can't have spaces or special characters. Luckily we've already used janitor.clean_names() so we won't have any problems."
      ]
    },
    {
      "cell_type": "code",
      "metadata": {
        "id": "ZgQvO36lrCoc",
        "colab": {
          "base_uri": "https://localhost:8080/",
          "height": 204
        },
        "outputId": "e719b093-7525-4bcf-87bc-34c3f58e82ca"
      },
      "source": [
        "queens_cd_units = (queens_nyc_slim\n",
        "  .groupby(['county'])\n",
        "  .agg(total_deaths_avg=('deaths', 'mean'))\n",
        "  .reset_index()\n",
        "  .head()\n",
        ")\n",
        "\n",
        "queens_cd_units"
      ],
      "execution_count": null,
      "outputs": [
        {
          "output_type": "execute_result",
          "data": {
            "text/html": [
              "<div>\n",
              "<style scoped>\n",
              "    .dataframe tbody tr th:only-of-type {\n",
              "        vertical-align: middle;\n",
              "    }\n",
              "\n",
              "    .dataframe tbody tr th {\n",
              "        vertical-align: top;\n",
              "    }\n",
              "\n",
              "    .dataframe thead th {\n",
              "        text-align: right;\n",
              "    }\n",
              "</style>\n",
              "<table border=\"1\" class=\"dataframe\">\n",
              "  <thead>\n",
              "    <tr style=\"text-align: right;\">\n",
              "      <th></th>\n",
              "      <th>county</th>\n",
              "      <th>total_deaths_avg</th>\n",
              "    </tr>\n",
              "  </thead>\n",
              "  <tbody>\n",
              "    <tr>\n",
              "      <th>0</th>\n",
              "      <td>Bronx</td>\n",
              "      <td>469.996337</td>\n",
              "    </tr>\n",
              "    <tr>\n",
              "      <th>1</th>\n",
              "      <td>Kings</td>\n",
              "      <td>848.066421</td>\n",
              "    </tr>\n",
              "    <tr>\n",
              "      <th>2</th>\n",
              "      <td>Manhattan</td>\n",
              "      <td>513.663043</td>\n",
              "    </tr>\n",
              "    <tr>\n",
              "      <th>3</th>\n",
              "      <td>Queens</td>\n",
              "      <td>695.755172</td>\n",
              "    </tr>\n",
              "    <tr>\n",
              "      <th>4</th>\n",
              "      <td>Richmond</td>\n",
              "      <td>209.679654</td>\n",
              "    </tr>\n",
              "  </tbody>\n",
              "</table>\n",
              "</div>"
            ],
            "text/plain": [
              "      county  total_deaths_avg\n",
              "0      Bronx        469.996337\n",
              "1      Kings        848.066421\n",
              "2  Manhattan        513.663043\n",
              "3     Queens        695.755172\n",
              "4   Richmond        209.679654"
            ]
          },
          "metadata": {
            "tags": []
          },
          "execution_count": 14
        }
      ]
    },
    {
      "cell_type": "markdown",
      "metadata": {
        "id": "YDPbet4LiGvv"
      },
      "source": [
        "12. Creating new column of 'Total_Deaths_Average'\n",
        "\n",
        "---\n",
        "\n"
      ]
    },
    {
      "cell_type": "code",
      "metadata": {
        "id": "201-UZMfrW-0",
        "colab": {
          "base_uri": "https://localhost:8080/",
          "height": 145
        },
        "outputId": "9b87ab2d-73a6-41cc-f7a4-1db260c1e130"
      },
      "source": [
        "queens_cd_units.style.format({\n",
        "  'total_units_avg': '{:.1f}'.format,\n",
        "})"
      ],
      "execution_count": null,
      "outputs": [
        {
          "output_type": "execute_result",
          "data": {
            "text/html": [
              "<style  type=\"text/css\" >\n",
              "</style><table id=\"T_00b52e06_1ac4_11ea_9af6_0242ac1c0002\" ><thead>    <tr>        <th class=\"blank level0\" ></th>        <th class=\"col_heading level0 col0\" >county</th>        <th class=\"col_heading level0 col1\" >total_deaths_avg</th>    </tr></thead><tbody>\n",
              "                <tr>\n",
              "                        <th id=\"T_00b52e06_1ac4_11ea_9af6_0242ac1c0002level0_row0\" class=\"row_heading level0 row0\" >0</th>\n",
              "                        <td id=\"T_00b52e06_1ac4_11ea_9af6_0242ac1c0002row0_col0\" class=\"data row0 col0\" >Bronx</td>\n",
              "                        <td id=\"T_00b52e06_1ac4_11ea_9af6_0242ac1c0002row0_col1\" class=\"data row0 col1\" >469.996</td>\n",
              "            </tr>\n",
              "            <tr>\n",
              "                        <th id=\"T_00b52e06_1ac4_11ea_9af6_0242ac1c0002level0_row1\" class=\"row_heading level0 row1\" >1</th>\n",
              "                        <td id=\"T_00b52e06_1ac4_11ea_9af6_0242ac1c0002row1_col0\" class=\"data row1 col0\" >Kings</td>\n",
              "                        <td id=\"T_00b52e06_1ac4_11ea_9af6_0242ac1c0002row1_col1\" class=\"data row1 col1\" >848.066</td>\n",
              "            </tr>\n",
              "            <tr>\n",
              "                        <th id=\"T_00b52e06_1ac4_11ea_9af6_0242ac1c0002level0_row2\" class=\"row_heading level0 row2\" >2</th>\n",
              "                        <td id=\"T_00b52e06_1ac4_11ea_9af6_0242ac1c0002row2_col0\" class=\"data row2 col0\" >Manhattan</td>\n",
              "                        <td id=\"T_00b52e06_1ac4_11ea_9af6_0242ac1c0002row2_col1\" class=\"data row2 col1\" >513.663</td>\n",
              "            </tr>\n",
              "            <tr>\n",
              "                        <th id=\"T_00b52e06_1ac4_11ea_9af6_0242ac1c0002level0_row3\" class=\"row_heading level0 row3\" >3</th>\n",
              "                        <td id=\"T_00b52e06_1ac4_11ea_9af6_0242ac1c0002row3_col0\" class=\"data row3 col0\" >Queens</td>\n",
              "                        <td id=\"T_00b52e06_1ac4_11ea_9af6_0242ac1c0002row3_col1\" class=\"data row3 col1\" >695.755</td>\n",
              "            </tr>\n",
              "            <tr>\n",
              "                        <th id=\"T_00b52e06_1ac4_11ea_9af6_0242ac1c0002level0_row4\" class=\"row_heading level0 row4\" >4</th>\n",
              "                        <td id=\"T_00b52e06_1ac4_11ea_9af6_0242ac1c0002row4_col0\" class=\"data row4 col0\" >Richmond</td>\n",
              "                        <td id=\"T_00b52e06_1ac4_11ea_9af6_0242ac1c0002row4_col1\" class=\"data row4 col1\" >209.68</td>\n",
              "            </tr>\n",
              "    </tbody></table>"
            ],
            "text/plain": [
              "<pandas.io.formats.style.Styler at 0x7ff12b95d748>"
            ]
          },
          "metadata": {
            "tags": []
          },
          "execution_count": 15
        }
      ]
    },
    {
      "cell_type": "markdown",
      "metadata": {
        "id": "nZE1Mv4FiV82"
      },
      "source": [
        "13. Creating a Graph-2\n",
        "\n",
        "\n",
        "---\n",
        "\n"
      ]
    },
    {
      "cell_type": "code",
      "metadata": {
        "id": "VpwQvCBUsHkg",
        "colab": {
          "base_uri": "https://localhost:8080/",
          "height": 163
        },
        "outputId": "3da9850e-5be5-404f-e04c-d6b299f72882"
      },
      "source": [
        "import altair as alt\n",
        "alt.Chart(queens_cd_units).mark_bar(color='goldenrod').encode(\n",
        "  x=alt.X(\n",
        "      'total_deaths_avg',\n",
        "      axis=alt.Axis(title='Average Total Death per County')\n",
        "  ),\n",
        "  y=alt.Y(\n",
        "    'county',\n",
        "    sort=alt.EncodingSortField(\n",
        "      field=\"total_deaths_avg\",    # The field to use for the sort\n",
        "      order=\"descending\" # The order to sort in\n",
        "    ),\n",
        "    axis=alt.Axis(title='County in NYC')\n",
        "  )\n",
        ")"
      ],
      "execution_count": null,
      "outputs": [
        {
          "output_type": "execute_result",
          "data": {
            "text/plain": [
              "alt.Chart(...)"
            ],
            "text/html": [
              "<!DOCTYPE html>\n",
              "<html>\n",
              "<head>\n",
              "  <style>\n",
              "    .error {\n",
              "        color: red;\n",
              "    }\n",
              "  </style>\n",
              "  <script type=\"text/javascript\" src=\"https://cdn.jsdelivr.net/npm//vega@5\"></script>\n",
              "  <script type=\"text/javascript\" src=\"https://cdn.jsdelivr.net/npm//vega-lite@3.4.0\"></script>\n",
              "  <script type=\"text/javascript\" src=\"https://cdn.jsdelivr.net/npm//vega-embed@5\"></script>\n",
              "</head>\n",
              "<body>\n",
              "  <div id=\"altair-viz\"></div>\n",
              "  <script>\n",
              "    (function(vegaEmbed) {\n",
              "      var spec = {\"config\": {\"view\": {\"width\": 400, \"height\": 300}, \"mark\": {\"tooltip\": null}}, \"data\": {\"name\": \"data-c186f03081a2ea7c0a66c94e270c5f20\"}, \"mark\": {\"type\": \"bar\", \"color\": \"goldenrod\"}, \"encoding\": {\"x\": {\"type\": \"quantitative\", \"axis\": {\"title\": \"Average Total Death per County\"}, \"field\": \"total_deaths_avg\"}, \"y\": {\"type\": \"nominal\", \"axis\": {\"title\": \"County in NYC\"}, \"field\": \"county\", \"sort\": {\"field\": \"total_deaths_avg\", \"order\": \"descending\"}}}, \"$schema\": \"https://vega.github.io/schema/vega-lite/v3.4.0.json\", \"datasets\": {\"data-c186f03081a2ea7c0a66c94e270c5f20\": [{\"county\": \"Bronx\", \"total_deaths_avg\": 469.996336996337}, {\"county\": \"Kings\", \"total_deaths_avg\": 848.0664206642066}, {\"county\": \"Manhattan\", \"total_deaths_avg\": 513.6630434782609}, {\"county\": \"Queens\", \"total_deaths_avg\": 695.755172413793}, {\"county\": \"Richmond\", \"total_deaths_avg\": 209.67965367965368}]}};\n",
              "      var embedOpt = {\"mode\": \"vega-lite\"};\n",
              "\n",
              "      function showError(el, error){\n",
              "          el.innerHTML = ('<div class=\"error\" style=\"color:red;\">'\n",
              "                          + '<p>JavaScript Error: ' + error.message + '</p>'\n",
              "                          + \"<p>This usually means there's a typo in your chart specification. \"\n",
              "                          + \"See the javascript console for the full traceback.</p>\"\n",
              "                          + '</div>');\n",
              "          throw error;\n",
              "      }\n",
              "      const el = document.getElementById('altair-viz');\n",
              "      vegaEmbed(\"#altair-viz\", spec, embedOpt)\n",
              "        .catch(error => showError(el, error));\n",
              "    })(vegaEmbed);\n",
              "\n",
              "  </script>\n",
              "</body>\n",
              "</html>"
            ]
          },
          "metadata": {
            "tags": []
          },
          "execution_count": 16
        }
      ]
    },
    {
      "cell_type": "markdown",
      "metadata": {
        "id": "RediaefCicoQ"
      },
      "source": [
        "14. Creating a Graph-2 (Extra)\n",
        "\n",
        "---\n",
        "\n",
        "Unlike R where ggplot2 is pretty much the univsal standard for graphing, in Python there are a lot of different packages that are commonly used. matplotlib is one very popular one, seaborn is a libray based on matplotlib that offers a simpler syntax and nicer defaults.\n",
        "\n",
        "Google Colab notebooks have a helpful sidepane with code snippets that you can browse and automatically add into your notebook. These snippets all use a different newer plotting library called altair. Here we build from some of the snippets provided to visualize our housing dataset.\n",
        "\n",
        "Here is the snippet eactly as Colab provides it. Note that there are lots of parts here that you can cut out. To make the example work on it's own they import some sampe data, but we have our own data to use so we can remove that and swap in our dataset. We'll start by using the dataset we already summarized for stats about Queens commmunity districts."
      ]
    },
    {
      "cell_type": "code",
      "metadata": {
        "id": "oZrKRoWVsuVV",
        "colab": {
          "base_uri": "https://localhost:8080/",
          "height": 163
        },
        "outputId": "2986d0e5-2fff-4747-bf61-84021c2bfd1d"
      },
      "source": [
        "alt.Chart(queens_cd_units).mark_bar().encode(\n",
        "  x='total_deaths_avg',\n",
        "  y='county',\n",
        ")\n"
      ],
      "execution_count": null,
      "outputs": [
        {
          "output_type": "execute_result",
          "data": {
            "text/plain": [
              "alt.Chart(...)"
            ],
            "text/html": [
              "<!DOCTYPE html>\n",
              "<html>\n",
              "<head>\n",
              "  <style>\n",
              "    .error {\n",
              "        color: red;\n",
              "    }\n",
              "  </style>\n",
              "  <script type=\"text/javascript\" src=\"https://cdn.jsdelivr.net/npm//vega@5\"></script>\n",
              "  <script type=\"text/javascript\" src=\"https://cdn.jsdelivr.net/npm//vega-lite@3.4.0\"></script>\n",
              "  <script type=\"text/javascript\" src=\"https://cdn.jsdelivr.net/npm//vega-embed@5\"></script>\n",
              "</head>\n",
              "<body>\n",
              "  <div id=\"altair-viz\"></div>\n",
              "  <script>\n",
              "    (function(vegaEmbed) {\n",
              "      var spec = {\"config\": {\"view\": {\"width\": 400, \"height\": 300}, \"mark\": {\"tooltip\": null}}, \"data\": {\"name\": \"data-c186f03081a2ea7c0a66c94e270c5f20\"}, \"mark\": \"bar\", \"encoding\": {\"x\": {\"type\": \"quantitative\", \"field\": \"total_deaths_avg\"}, \"y\": {\"type\": \"nominal\", \"field\": \"county\"}}, \"$schema\": \"https://vega.github.io/schema/vega-lite/v3.4.0.json\", \"datasets\": {\"data-c186f03081a2ea7c0a66c94e270c5f20\": [{\"county\": \"Bronx\", \"total_deaths_avg\": 469.996336996337}, {\"county\": \"Kings\", \"total_deaths_avg\": 848.0664206642066}, {\"county\": \"Manhattan\", \"total_deaths_avg\": 513.6630434782609}, {\"county\": \"Queens\", \"total_deaths_avg\": 695.755172413793}, {\"county\": \"Richmond\", \"total_deaths_avg\": 209.67965367965368}]}};\n",
              "      var embedOpt = {\"mode\": \"vega-lite\"};\n",
              "\n",
              "      function showError(el, error){\n",
              "          el.innerHTML = ('<div class=\"error\" style=\"color:red;\">'\n",
              "                          + '<p>JavaScript Error: ' + error.message + '</p>'\n",
              "                          + \"<p>This usually means there's a typo in your chart specification. \"\n",
              "                          + \"See the javascript console for the full traceback.</p>\"\n",
              "                          + '</div>');\n",
              "          throw error;\n",
              "      }\n",
              "      const el = document.getElementById('altair-viz');\n",
              "      vegaEmbed(\"#altair-viz\", spec, embedOpt)\n",
              "        .catch(error => showError(el, error));\n",
              "    })(vegaEmbed);\n",
              "\n",
              "  </script>\n",
              "</body>\n",
              "</html>"
            ]
          },
          "metadata": {
            "tags": []
          },
          "execution_count": 15
        }
      ]
    }
  ]
}